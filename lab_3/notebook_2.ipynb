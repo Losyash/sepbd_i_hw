{
  "nbformat": 4,
  "nbformat_minor": 0,
  "metadata": {
    "colab": {
      "provenance": []
    },
    "kernelspec": {
      "name": "python3",
      "display_name": "Python 3"
    },
    "language_info": {
      "name": "python"
    }
  },
  "cells": [
    {
      "cell_type": "markdown",
      "source": [
        "### Установка пакетов"
      ],
      "metadata": {
        "id": "xydrmfnDr7KX"
      }
    },
    {
      "cell_type": "code",
      "source": [
        "!pip install pyspark"
      ],
      "metadata": {
        "colab": {
          "base_uri": "https://localhost:8080/"
        },
        "id": "ezujwGoDr-on",
        "outputId": "22f5cfba-3308-4821-d088-762377ae1a5c"
      },
      "execution_count": 10,
      "outputs": [
        {
          "output_type": "stream",
          "name": "stdout",
          "text": [
            "Requirement already satisfied: pyspark in /usr/local/lib/python3.10/dist-packages (3.5.3)\n",
            "Requirement already satisfied: py4j==0.10.9.7 in /usr/local/lib/python3.10/dist-packages (from pyspark) (0.10.9.7)\n"
          ]
        }
      ]
    },
    {
      "cell_type": "markdown",
      "source": [
        "### Импорт библиотек"
      ],
      "metadata": {
        "id": "k3CMXpjpptKn"
      }
    },
    {
      "cell_type": "code",
      "source": [
        "import json\n",
        "import matplotlib.pyplot as plt\n",
        "import random\n",
        "from pyspark.sql import SparkSession, Window\n",
        "from pyspark.sql.functions import count, mean, max, min, col, sum, format_string\n",
        "import os"
      ],
      "metadata": {
        "id": "0bxIuW3BnoW3"
      },
      "execution_count": 11,
      "outputs": []
    },
    {
      "cell_type": "markdown",
      "source": [
        "### Генерация номера задания"
      ],
      "metadata": {
        "id": "lmxmF6rXpx09"
      }
    },
    {
      "cell_type": "code",
      "execution_count": 12,
      "metadata": {
        "id": "GsQcJz30OPaB"
      },
      "outputs": [],
      "source": [
        "# random.randint(1, 200)"
      ]
    },
    {
      "cell_type": "markdown",
      "source": [
        "Сгенерирован номер с заданием 99"
      ],
      "metadata": {
        "id": "d2WFc0YWpnDT"
      }
    },
    {
      "cell_type": "markdown",
      "source": [
        "### Создание каталога data для хранения данных"
      ],
      "metadata": {
        "id": "7K0wrzBFOh6b"
      }
    },
    {
      "cell_type": "code",
      "source": [
        "if not os.path.exists('data'):\n",
        "  os.makedirs('data')"
      ],
      "metadata": {
        "id": "k6mJK8UWOgEZ"
      },
      "execution_count": 13,
      "outputs": []
    },
    {
      "cell_type": "markdown",
      "source": [
        "### Создание экземпляра SparkSession"
      ],
      "metadata": {
        "id": "29kEYlPZp64Z"
      }
    },
    {
      "cell_type": "code",
      "source": [
        "spark = SparkSession.builder.appName('Homework_3_lab2').getOrCreate()"
      ],
      "metadata": {
        "id": "IGshgYlPsS5r"
      },
      "execution_count": 14,
      "outputs": []
    },
    {
      "cell_type": "markdown",
      "source": [
        "### Задание 1. Считать файл 2.csv и создать Spark DataFrame"
      ],
      "metadata": {
        "id": "o-SD5MFn07MT"
      }
    },
    {
      "cell_type": "code",
      "source": [
        "df = spark.read.format('csv').option('header', 'true').load('data/2.csv')\n",
        "df.show(5)"
      ],
      "metadata": {
        "colab": {
          "base_uri": "https://localhost:8080/"
        },
        "id": "2E6p3JQj1ypM",
        "outputId": "4aa58d01-fb89-4c31-9428-ab2175e3a0f9"
      },
      "execution_count": 15,
      "outputs": [
        {
          "output_type": "stream",
          "name": "stdout",
          "text": [
            "+----------+--------------------+-----+--------+-----------------+--------------------+---------------+---------------+------+---------+\n",
            "|product_id|                name|price|quantity|         category|         description|production_date|expiration_date|rating|   status|\n",
            "+----------+--------------------+-----+--------+-----------------+--------------------+---------------+---------------+------+---------+\n",
            "|         1|Пакеты для мастер...| 7877|     367|  Товары для дома|Помогает поддержи...|     2017-04-03|     2020-06-08|  2.61|Delivered|\n",
            "|         2|   Грудинка копченая| 4199|     492|             Мясо|Имеет низкий глик...|     2002-04-06|     2006-08-09|  0.16| In Stock|\n",
            "|         3|Орехи (грецкий ор...| 1037|     385|          Бакалея|Обладает приятным...|     2009-01-22|     2015-01-02|  2.58| Refunded|\n",
            "|         4|           Крыжовник| 8055|     877|           Фрукты|Помогает снизить ...|     2005-01-13|     2012-01-08|  2.43| In Stock|\n",
            "|         5|               Айран| 3445|     508|Молочные продукты|Помогает поддержи...|     1993-01-01|     2015-07-19|  0.01|  Pending|\n",
            "+----------+--------------------+-----+--------+-----------------+--------------------+---------------+---------------+------+---------+\n",
            "only showing top 5 rows\n",
            "\n"
          ]
        }
      ]
    },
    {
      "cell_type": "markdown",
      "source": [
        "### 2. Выполнить группировку по колонке категориальных данных category, а также приведенные агрегации по колонке quantity (частота, среднее, максимальное, минимальное, процент от общего числа)"
      ],
      "metadata": {
        "id": "TDhkyYEmzJo0"
      }
    },
    {
      "cell_type": "code",
      "source": [
        "window = Window.rowsBetween(Window.unboundedPreceding, Window.unboundedFollowing)\n",
        "\n",
        "df_grouped = df.select(['category', 'quantity']) \\\n",
        "  .groupby('category') \\\n",
        "  .agg(\n",
        "    count('quantity').alias('count'),\n",
        "    mean('quantity').alias('mean_quantity'),\n",
        "    max('quantity').alias('max_quantity'),\n",
        "    min('quantity').alias('min_quantity')\n",
        "  ) \\\n",
        "  .withColumn('total', sum(col('count')).over(window)) \\\n",
        "  .withColumn('percent', col('count') / col('total') * 100) \\\n",
        "  .withColumn('percent (%)', format_string('%5.0f%%', col('percent'))) \\\n",
        "  .drop(\"total\")\n",
        "\n",
        "df_grouped.show()"
      ],
      "metadata": {
        "colab": {
          "base_uri": "https://localhost:8080/"
        },
        "id": "qWBtWvwOzw39",
        "outputId": "0ca7814c-07f8-46bc-bd8c-9677c96c0eac"
      },
      "execution_count": 16,
      "outputs": [
        {
          "output_type": "stream",
          "name": "stdout",
          "text": [
            "+-----------------+-----+------------------+------------+------------+------------------+-----------+\n",
            "|         category|count|     mean_quantity|max_quantity|min_quantity|           percent|percent (%)|\n",
            "+-----------------+-----+------------------+------------+------------+------------------+-----------+\n",
            "|          Бакалея|  187| 483.3155080213904|         995|         100|15.020080321285139|        15%|\n",
            "|Молочные продукты|  174|461.63793103448273|         995|         102|13.975903614457833|        14%|\n",
            "|             Мясо|  178|498.80337078651684|         999|           1|14.297188755020079|        14%|\n",
            "|          Напитки|  177| 482.5875706214689|         995|         103|14.216867469879519|        14%|\n",
            "|            Овощи|  174| 527.1034482758621|         998|         104|13.975903614457833|        14%|\n",
            "|  Товары для дома|  169|485.20710059171597|         994|         101|13.574297188755018|        14%|\n",
            "|           Фрукты|  186|500.26881720430106|         987|         103| 14.93975903614458|        15%|\n",
            "+-----------------+-----+------------------+------------+------------+------------------+-----------+\n",
            "\n"
          ]
        }
      ]
    },
    {
      "cell_type": "markdown",
      "source": [
        "### 3. Построить круговую диаграмму, отражающую общее распределение по значениям категориальной колонки"
      ],
      "metadata": {
        "id": "D2Zu6g8fzRcN"
      }
    },
    {
      "cell_type": "code",
      "source": [
        "df_plot = df_grouped.toPandas()\n",
        "\n",
        "plot_labels = df_plot.category\n",
        "plot_data = df_plot.percent\n",
        "\n",
        "plt.pie(plot_data, labels=plot_labels, autopct='%1.1f%%')\n",
        "plt.show()"
      ],
      "metadata": {
        "colab": {
          "base_uri": "https://localhost:8080/",
          "height": 406
        },
        "id": "Yixg0edy2N1A",
        "outputId": "00e96725-01f5-4157-8278-bd26872c12f3"
      },
      "execution_count": 17,
      "outputs": [
        {
          "output_type": "display_data",
          "data": {
            "text/plain": [
              "<Figure size 640x480 with 1 Axes>"
            ],
            "image/png": "[encoded data removed]"
          },
          "metadata": {}
        }
      ]
    },
    {
      "cell_type": "markdown",
      "source": [
        "### Задание 4. Записать полученные данные (п. 2) в файл JSON"
      ],
      "metadata": {
        "id": "Sz3GsqTOzSuk"
      }
    },
    {
      "cell_type": "code",
      "source": [
        "with open('data/r_3.json', 'w') as file:\n",
        "  file.write(df_grouped.toJSON().collect()[0])"
      ],
      "metadata": {
        "id": "uqtmn8rn2lKD"
      },
      "execution_count": 18,
      "outputs": []
    }
  ]
}