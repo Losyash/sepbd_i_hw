{
  "nbformat": 4,
  "nbformat_minor": 0,
  "metadata": {
    "colab": {
      "provenance": []
    },
    "kernelspec": {
      "name": "python3",
      "display_name": "Python 3"
    },
    "language_info": {
      "name": "python"
    }
  },
  "cells": [
    {
      "cell_type": "markdown",
      "source": [
        "### Установка пакетов"
      ],
      "metadata": {
        "id": "xydrmfnDr7KX"
      }
    },
    {
      "cell_type": "code",
      "source": [
        "!pip install pyspark"
      ],
      "metadata": {
        "colab": {
          "base_uri": "https://localhost:8080/"
        },
        "id": "ezujwGoDr-on",
        "outputId": "d17935bd-101a-425a-a935-537829a60463"
      },
      "execution_count": 11,
      "outputs": [
        {
          "output_type": "stream",
          "name": "stdout",
          "text": [
            "Requirement already satisfied: pyspark in /usr/local/lib/python3.10/dist-packages (3.5.3)\n",
            "Requirement already satisfied: py4j==0.10.9.7 in /usr/local/lib/python3.10/dist-packages (from pyspark) (0.10.9.7)\n"
          ]
        }
      ]
    },
    {
      "cell_type": "markdown",
      "source": [
        "### Импорт библиотек"
      ],
      "metadata": {
        "id": "k3CMXpjpptKn"
      }
    },
    {
      "cell_type": "code",
      "source": [
        "import json\n",
        "import random\n",
        "from pyspark.sql import SparkSession\n",
        "from pyspark.sql.functions import col, skewness, kurtosis\n",
        "import os"
      ],
      "metadata": {
        "id": "0bxIuW3BnoW3"
      },
      "execution_count": 12,
      "outputs": []
    },
    {
      "cell_type": "markdown",
      "source": [
        "### Генерация номера задания"
      ],
      "metadata": {
        "id": "lmxmF6rXpx09"
      }
    },
    {
      "cell_type": "code",
      "execution_count": 13,
      "metadata": {
        "id": "GsQcJz30OPaB"
      },
      "outputs": [],
      "source": [
        "# random.randint(1, 200)"
      ]
    },
    {
      "cell_type": "markdown",
      "source": [
        "Сгенерирован номер с заданием 99"
      ],
      "metadata": {
        "id": "d2WFc0YWpnDT"
      }
    },
    {
      "cell_type": "markdown",
      "source": [
        "### Создание каталога data для хранения данных"
      ],
      "metadata": {
        "id": "7K0wrzBFOh6b"
      }
    },
    {
      "cell_type": "code",
      "source": [
        "if not os.path.exists('data'):\n",
        "  os.makedirs('data')"
      ],
      "metadata": {
        "id": "k6mJK8UWOgEZ"
      },
      "execution_count": 14,
      "outputs": []
    },
    {
      "cell_type": "markdown",
      "source": [
        "### Создание экземпляра SparkSession"
      ],
      "metadata": {
        "id": "29kEYlPZp64Z"
      }
    },
    {
      "cell_type": "code",
      "source": [
        "spark = SparkSession.builder.appName('Homework_3_lab1').getOrCreate()"
      ],
      "metadata": {
        "id": "IGshgYlPsS5r"
      },
      "execution_count": 15,
      "outputs": []
    },
    {
      "cell_type": "markdown",
      "source": [
        "### Задание 1. Считать файл 1.csv и создать Spark DataFrame"
      ],
      "metadata": {
        "id": "o-SD5MFn07MT"
      }
    },
    {
      "cell_type": "code",
      "source": [
        "df = spark.read.format('csv').option('header', 'true').load('data/1.csv')\n",
        "df.show(5)"
      ],
      "metadata": {
        "colab": {
          "base_uri": "https://localhost:8080/"
        },
        "id": "2E6p3JQj1ypM",
        "outputId": "c84e4ed2-20a6-4259-ffde-2f30a1b90b4e"
      },
      "execution_count": 16,
      "outputs": [
        {
          "output_type": "stream",
          "name": "stdout",
          "text": [
            "+------------------+------------------+------------------+------------------+------------------+------------------+------------------+------------------+---+------+\n",
            "|         feature_1|         feature_2|         feature_3|         feature_4|         feature_5|         feature_6|         feature_7|         feature_8| id|target|\n",
            "+------------------+------------------+------------------+------------------+------------------+------------------+------------------+------------------+---+------+\n",
            "|45.794977560208885|22.365826337481955| 42.86097041855972| 35.68180185252314| 69.86758710262683|54.512025643148185| 6.802793686908368|0.8300155869298038|  0|     0|\n",
            "|21.775352975988557| 65.53599384335749| 58.91720762402713| 52.77511735456368|30.610773516259037| 40.23415883241866| 40.11425005035924|38.820563546327804|  1|     0|\n",
            "|16.968167951883913| 43.51061641052714| 36.64751643669962| 40.72707908000061| 76.32244475328396| 57.15228570438192|26.944164422928182| 46.83470433136516|  2|     1|\n",
            "| 34.86467903402259| 50.05627986123221|15.374810712860867|58.981782960483265|  61.4268337768313|45.787543071878154| 41.86689791552265|25.501502026760086|  3|     1|\n",
            "|15.713399676197609| 53.74893932855604| 54.99983007694978|  63.6765704078116| 69.61391086312577| 54.47007826781173| 47.27869384433931| 7.442207022496902|  4|     1|\n",
            "+------------------+------------------+------------------+------------------+------------------+------------------+------------------+------------------+---+------+\n",
            "only showing top 5 rows\n",
            "\n"
          ]
        }
      ]
    },
    {
      "cell_type": "markdown",
      "source": [
        "### Задание 2. Выполнить преобразование к числовому типу колонки feature_7"
      ],
      "metadata": {
        "id": "tJncfXDDtg7H"
      }
    },
    {
      "cell_type": "code",
      "source": [
        "df_feature_7 = df.select('feature_7')\n",
        "df_feature_7.show(5)"
      ],
      "metadata": {
        "colab": {
          "base_uri": "https://localhost:8080/"
        },
        "id": "nJZg8_rGuDPR",
        "outputId": "3da82cbe-0d2a-40d2-e866-b00b5ee37196"
      },
      "execution_count": 17,
      "outputs": [
        {
          "output_type": "stream",
          "name": "stdout",
          "text": [
            "+------------------+\n",
            "|         feature_7|\n",
            "+------------------+\n",
            "| 6.802793686908368|\n",
            "| 40.11425005035924|\n",
            "|26.944164422928182|\n",
            "| 41.86689791552265|\n",
            "| 47.27869384433931|\n",
            "+------------------+\n",
            "only showing top 5 rows\n",
            "\n"
          ]
        }
      ]
    },
    {
      "cell_type": "markdown",
      "source": [
        "   ### Задание 3.\tВывести статистические характеристики колонки feature_7"
      ],
      "metadata": {
        "id": "r99R9FEMtb3C"
      }
    },
    {
      "cell_type": "code",
      "source": [
        "df_feature_7_stats = df_feature_7.describe()\n",
        "df_feature_7_stats.show()"
      ],
      "metadata": {
        "colab": {
          "base_uri": "https://localhost:8080/"
        },
        "id": "AzoaxzcluDzt",
        "outputId": "07b062bf-84f3-4409-ce04-d1dae8f855c7"
      },
      "execution_count": 18,
      "outputs": [
        {
          "output_type": "stream",
          "name": "stdout",
          "text": [
            "+-------+------------------+\n",
            "|summary|         feature_7|\n",
            "+-------+------------------+\n",
            "|  count|              1028|\n",
            "|   mean| 28.41355894920439|\n",
            "| stddev|16.619681363208024|\n",
            "|    min|0.9878924440614636|\n",
            "|    max| 9.939462576777798|\n",
            "+-------+------------------+\n",
            "\n"
          ]
        }
      ]
    },
    {
      "cell_type": "markdown",
      "source": [
        "### Задание 4.\tРассчитать дополнительно коэффициенты асимметрии и эксцесса"
      ],
      "metadata": {
        "id": "x_8yeslNtoFB"
      }
    },
    {
      "cell_type": "code",
      "source": [
        "df_feature_7_coef = df.select(skewness('feature_7'), kurtosis('feature_7'))\n",
        "df_feature_7_coef.show()"
      ],
      "metadata": {
        "colab": {
          "base_uri": "https://localhost:8080/"
        },
        "id": "LWAGnudOuEKS",
        "outputId": "9ab1f3bf-1429-4d63-d2eb-16a30bdcb7e5"
      },
      "execution_count": 19,
      "outputs": [
        {
          "output_type": "stream",
          "name": "stdout",
          "text": [
            "+--------------------+-------------------+\n",
            "| skewness(feature_7)|kurtosis(feature_7)|\n",
            "+--------------------+-------------------+\n",
            "|0.025436358354712398|-1.2224617813666958|\n",
            "+--------------------+-------------------+\n",
            "\n"
          ]
        }
      ]
    },
    {
      "cell_type": "markdown",
      "source": [
        "### Задание 5. Записать полученные данные (3,4) в файл JSON"
      ],
      "metadata": {
        "id": "JhFlYq4mttrV"
      }
    },
    {
      "cell_type": "code",
      "source": [
        "stat_to_json = {}\n",
        "\n",
        "stats_list = df_feature_7_stats.collect()\n",
        "coefs_list = df_feature_7_coef.collect()\n",
        "\n",
        "for el in stats_list:\n",
        "  stat_to_json[el[0]] = float(el[1])\n",
        "\n",
        "stat_to_json['skewness'] = coefs_list[0][0]\n",
        "stat_to_json['kurtosis'] = coefs_list[0][1]\n",
        "\n",
        "with open('data/r_1.json', 'w') as file:\n",
        "  json.dump(stat_to_json, file)"
      ],
      "metadata": {
        "id": "eKojKUl_uEkL"
      },
      "execution_count": 20,
      "outputs": []
    }
  ]
}