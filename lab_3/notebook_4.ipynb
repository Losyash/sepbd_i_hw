{
  "nbformat": 4,
  "nbformat_minor": 0,
  "metadata": {
    "colab": {
      "provenance": []
    },
    "kernelspec": {
      "name": "python3",
      "display_name": "Python 3"
    },
    "language_info": {
      "name": "python"
    }
  },
  "cells": [
    {
      "cell_type": "markdown",
      "source": [
        "### Установка пакетов"
      ],
      "metadata": {
        "id": "xydrmfnDr7KX"
      }
    },
    {
      "cell_type": "code",
      "source": [
        "!pip install pyspark"
      ],
      "metadata": {
        "colab": {
          "base_uri": "https://localhost:8080/"
        },
        "id": "ezujwGoDr-on",
        "outputId": "6e2b5907-c88b-47da-c732-474a56f85af3"
      },
      "execution_count": 1,
      "outputs": [
        {
          "output_type": "stream",
          "name": "stdout",
          "text": [
            "Requirement already satisfied: pyspark in /usr/local/lib/python3.10/dist-packages (3.5.3)\n",
            "Requirement already satisfied: py4j==0.10.9.7 in /usr/local/lib/python3.10/dist-packages (from pyspark) (0.10.9.7)\n"
          ]
        }
      ]
    },
    {
      "cell_type": "markdown",
      "source": [
        "### Импорт библиотек"
      ],
      "metadata": {
        "id": "k3CMXpjpptKn"
      }
    },
    {
      "cell_type": "code",
      "source": [
        "import json\n",
        "import matplotlib.pyplot as plt\n",
        "import os\n",
        "from pyspark.ml.stat import ChiSquareTest\n",
        "from pyspark.ml.linalg import Vectors\n",
        "from pyspark.sql import SparkSession\n",
        "from pyspark.sql.functions import col, sum\n",
        "import urllib.request"
      ],
      "metadata": {
        "id": "0bxIuW3BnoW3"
      },
      "execution_count": 2,
      "outputs": []
    },
    {
      "cell_type": "markdown",
      "source": [
        "### Генерация номера задания"
      ],
      "metadata": {
        "id": "lmxmF6rXpx09"
      }
    },
    {
      "cell_type": "code",
      "execution_count": 3,
      "metadata": {
        "id": "GsQcJz30OPaB"
      },
      "outputs": [],
      "source": [
        "# random.randint(1, 200)"
      ]
    },
    {
      "cell_type": "markdown",
      "source": [
        "Сгенерирован номер с заданием 99"
      ],
      "metadata": {
        "id": "d2WFc0YWpnDT"
      }
    },
    {
      "cell_type": "markdown",
      "source": [
        "### Создание каталога data для хранения данных"
      ],
      "metadata": {
        "id": "7K0wrzBFOh6b"
      }
    },
    {
      "cell_type": "code",
      "source": [
        "if not os.path.exists('data'):\n",
        "  os.makedirs('data')\n",
        "\n",
        "urllib.request.urlretrieve('https://raw.githubusercontent.com/Losyash/sepbd_i_hw/refs/heads/master/lab_3/data/4.csv', 'data/4.csv')"
      ],
      "metadata": {
        "id": "k6mJK8UWOgEZ",
        "colab": {
          "base_uri": "https://localhost:8080/"
        },
        "outputId": "256f515f-f8bb-4dca-8e11-caaf44c48c79"
      },
      "execution_count": 4,
      "outputs": [
        {
          "output_type": "execute_result",
          "data": {
            "text/plain": [
              "('data/4.csv', <http.client.HTTPMessage at 0x78d84d543970>)"
            ]
          },
          "metadata": {},
          "execution_count": 4
        }
      ]
    },
    {
      "cell_type": "markdown",
      "source": [
        "### Создание экземпляра SparkSession"
      ],
      "metadata": {
        "id": "29kEYlPZp64Z"
      }
    },
    {
      "cell_type": "code",
      "source": [
        "spark = SparkSession.builder.appName('Homework_3_lab4').getOrCreate()"
      ],
      "metadata": {
        "id": "IGshgYlPsS5r"
      },
      "execution_count": 5,
      "outputs": []
    },
    {
      "cell_type": "markdown",
      "source": [
        "### Задание 1. Считать файл 4.csv и создать Spark DataFrame"
      ],
      "metadata": {
        "id": "o-SD5MFn07MT"
      }
    },
    {
      "cell_type": "code",
      "source": [
        "df = spark.read.format('csv').option('header', 'true').load('data/4.csv')\n",
        "df.show(5)"
      ],
      "metadata": {
        "colab": {
          "base_uri": "https://localhost:8080/"
        },
        "id": "2E6p3JQj1ypM",
        "outputId": "1ab19f96-4cfd-4f3b-9ae1-877afc7b813b"
      },
      "execution_count": 6,
      "outputs": [
        {
          "output_type": "stream",
          "name": "stdout",
          "text": [
            "+-----------------+------------------+------------------+-----------------+------------------+------------------+------------------+------------------+------------------+------------------+------------------+------------------+---+------+\n",
            "|        feature_1|         feature_2|         feature_3|        feature_4|         feature_5|         feature_6|         feature_7|         feature_8|         feature_9|        feature_10|        feature_11|        feature_12| id|target|\n",
            "+-----------------+------------------+------------------+-----------------+------------------+------------------+------------------+------------------+------------------+------------------+------------------+------------------+---+------+\n",
            "|66.42466482734166| 44.70872653121246|30.775372350642026| 51.1389709391279| 28.72440341044677| 57.94952775008367| 51.28947730127982|11.669599638611906| 61.00306652060417|46.634124685340595|58.001695855553265| 31.69836310949832|  0|     0|\n",
            "|70.87793616714605|  38.5992682438055|22.045540363306007|28.85845991932061| 35.57996323644202| 41.37034454516032|  20.0552095785698|38.358490305910664| 55.45676866433533| 55.26019485121442| 73.94404920519521| 22.54155481157264|  1|     0|\n",
            "|52.65358761742088|27.270578999326727|  53.3884344050609|47.38162151953456|40.073475065462134| 31.74236462763645|41.243517716986304| 4.873996515302217| 41.64875977975088|24.406273010449947| 60.66822041476222|45.718848356744104|  2|     1|\n",
            "|65.91668055413234|41.859496629632005|  52.2020535634286|51.10262326576781| 40.31434866165625| 36.20363966154429|49.103149649064434| 33.09851191853613| 47.38911187078553|21.213952277761255| 44.90614750174443| 30.85134922386108|  3|     1|\n",
            "|65.65323964461042| 61.55979106669115| 16.60371335949345|53.73743226507071|  49.3299851010543|44.214012813978734|52.532694878813196|13.754753915273543|46.582248603243634| 36.63652221895657| 66.41334026654236| 23.40966061544064|  4|     1|\n",
            "+-----------------+------------------+------------------+-----------------+------------------+------------------+------------------+------------------+------------------+------------------+------------------+------------------+---+------+\n",
            "only showing top 5 rows\n",
            "\n"
          ]
        }
      ]
    },
    {
      "cell_type": "markdown",
      "source": [
        "### Задание 2. Подготовить исходный набор данных для расчета критерия согласия Пирсона (Pearson’s Chi-squared test)"
      ],
      "metadata": {
        "id": "iC5hvDXynlro"
      }
    },
    {
      "cell_type": "code",
      "source": [
        "def row_to_vector(row):\n",
        "  return [\n",
        "    int(row[-1]),\n",
        "    Vectors.dense(*row[:12])\n",
        "  ]\n",
        "\n",
        "df_prepared = df.rdd.map(row_to_vector).collect()\n",
        "df_test = spark.createDataFrame(df_prepared, [ 'label', 'features' ])\n",
        "\n",
        "df_test.show(5)"
      ],
      "metadata": {
        "colab": {
          "base_uri": "https://localhost:8080/"
        },
        "id": "2Ep_a47qqily",
        "outputId": "43775385-5655-4c81-9af3-c3e9d69e4fa5"
      },
      "execution_count": 7,
      "outputs": [
        {
          "output_type": "stream",
          "name": "stdout",
          "text": [
            "+-----+--------------------+\n",
            "|label|            features|\n",
            "+-----+--------------------+\n",
            "|    0|[66.4246648273416...|\n",
            "|    0|[70.8779361671460...|\n",
            "|    1|[52.6535876174208...|\n",
            "|    1|[65.9166805541323...|\n",
            "|    1|[65.6532396446104...|\n",
            "+-----+--------------------+\n",
            "only showing top 5 rows\n",
            "\n"
          ]
        }
      ]
    },
    {
      "cell_type": "markdown",
      "source": [
        "### Задание 3.\tВыполнить расчет критерия согласия Пирсона (Pearson’s Chi-squared test)"
      ],
      "metadata": {
        "id": "Vxdkd4BQnrtk"
      }
    },
    {
      "cell_type": "code",
      "source": [
        "xi2 = ChiSquareTest.test(df_test, 'features', 'label', flatten=True) \\\n",
        "  .orderBy('featureIndex')\n",
        "\n",
        "xi2.show()"
      ],
      "metadata": {
        "colab": {
          "base_uri": "https://localhost:8080/"
        },
        "id": "z-zsOOLtrECp",
        "outputId": "16983938-83aa-4a2a-84dc-fc2510d81785"
      },
      "execution_count": 8,
      "outputs": [
        {
          "output_type": "stream",
          "name": "stdout",
          "text": [
            "+------------+-------------------+----------------+------------------+\n",
            "|featureIndex|             pValue|degreesOfFreedom|         statistic|\n",
            "+------------+-------------------+----------------+------------------+\n",
            "|           0|0.48714614379548027|            1337|1338.0000000000587|\n",
            "|           1|0.48714614379593424|            1337|1338.0000000000603|\n",
            "|           2|0.48714614379548027|            1337|1338.0000000000587|\n",
            "|           3| 0.4871461437959326|            1337|1338.0000000000605|\n",
            "|           4|  0.487146143795963|            1337|1338.0000000000566|\n",
            "|           5| 0.4871461437957113|            1337| 1338.000000000059|\n",
            "|           6| 0.4871461437957113|            1337| 1338.000000000059|\n",
            "|           7| 0.4871461437959539|            1337|1338.0000000000578|\n",
            "|           8| 0.4871461437957102|            1337|1338.0000000000591|\n",
            "|           9|0.48714614379548027|            1337|1338.0000000000587|\n",
            "|          10| 0.4871461437957102|            1337|1338.0000000000591|\n",
            "|          11|0.48714614379548216|            1337|1338.0000000000584|\n",
            "+------------+-------------------+----------------+------------------+\n",
            "\n"
          ]
        }
      ]
    },
    {
      "cell_type": "markdown",
      "source": [
        "### Задача 4. Записать полученные данные в файл (п. 3)"
      ],
      "metadata": {
        "id": "ygrS9UJ1coXI"
      }
    },
    {
      "cell_type": "code",
      "source": [
        "xi2.toPandas().to_json('data/r_4.json')"
      ],
      "metadata": {
        "id": "YAkZo_nwrOBl"
      },
      "execution_count": 9,
      "outputs": []
    }
  ]
}