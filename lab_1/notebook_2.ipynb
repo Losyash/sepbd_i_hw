{
  "nbformat": 4,
  "nbformat_minor": 0,
  "metadata": {
    "colab": {
      "provenance": [],
      "toc_visible": true
    },
    "kernelspec": {
      "name": "python3",
      "display_name": "Python 3"
    },
    "language_info": {
      "name": "python"
    }
  },
  "cells": [
    {
      "cell_type": "markdown",
      "source": [
        "### Установка пакетов"
      ],
      "metadata": {
        "id": "zCgRYCDNU1-f"
      }
    },
    {
      "cell_type": "code",
      "execution_count": 78,
      "metadata": {
        "colab": {
          "base_uri": "https://localhost:8080/"
        },
        "id": "fMnIUudbQHt_",
        "outputId": "54c50479-d73c-482d-84e7-ce96ebb5f518"
      },
      "outputs": [
        {
          "output_type": "stream",
          "name": "stdout",
          "text": [
            "Requirement already satisfied: pyspark in /usr/local/lib/python3.10/dist-packages (3.5.3)\n",
            "Requirement already satisfied: py4j==0.10.9.7 in /usr/local/lib/python3.10/dist-packages (from pyspark) (0.10.9.7)\n"
          ]
        }
      ],
      "source": [
        "!pip install pyspark"
      ]
    },
    {
      "cell_type": "markdown",
      "source": [
        "### Импорт библиотек"
      ],
      "metadata": {
        "id": "igCwOWcVMluA"
      }
    },
    {
      "cell_type": "code",
      "execution_count": 79,
      "metadata": {
        "id": "xrNaoNOOKGFH"
      },
      "outputs": [],
      "source": [
        "from pyspark.sql import SparkSession\n",
        "from pyspark.sql.functions import split, explode\n",
        "from operator import add\n",
        "import os"
      ]
    },
    {
      "cell_type": "markdown",
      "source": [
        "### Создание экземпляра **SparkSession**"
      ],
      "metadata": {
        "id": "qZZx_CDUM2Ho"
      }
    },
    {
      "cell_type": "code",
      "source": [
        "spark = SparkSession.builder.appName('Homework_1_lab2').getOrCreate()"
      ],
      "metadata": {
        "id": "c6g9u27fKJBY"
      },
      "execution_count": 80,
      "outputs": []
    },
    {
      "cell_type": "markdown",
      "source": [
        "### Генерация текстового файла"
      ],
      "metadata": {
        "id": "mQrjKaZpNFIm"
      }
    },
    {
      "cell_type": "code",
      "source": [
        "if not os.path.exists('data'):\n",
        "  os.makedirs('data')"
      ],
      "metadata": {
        "id": "pRn3LfrjPc6F"
      },
      "execution_count": 81,
      "outputs": []
    },
    {
      "cell_type": "code",
      "source": [
        "with open('data/words.txt', 'w') as f:\n",
        "  f.writelines([\n",
        "    'lorem ipsum dolor\\n',\n",
        "    'lorem ipsum dolor lorem ipsum dolor\\n',\n",
        "    'lorem ipsum dolor lorem ipsum dolor lorem ipsum dolor\\n',\n",
        "    'lorem ipsum dolor lorem ipsum dolor lorem ipsum dolor lorem ipsum dolor'\n",
        "  ])"
      ],
      "metadata": {
        "id": "7cjm02n6LBb3"
      },
      "execution_count": 82,
      "outputs": []
    },
    {
      "cell_type": "markdown",
      "source": [
        "### Считывание файла"
      ],
      "metadata": {
        "id": "et-GYhLPNLz0"
      }
    },
    {
      "cell_type": "code",
      "source": [
        "text = spark.read.text('data/words.txt')"
      ],
      "metadata": {
        "id": "DjoNA5ICKaK2"
      },
      "execution_count": 83,
      "outputs": []
    },
    {
      "cell_type": "code",
      "source": [
        "text.show()"
      ],
      "metadata": {
        "colab": {
          "base_uri": "https://localhost:8080/"
        },
        "id": "LStMIFeRKsEP",
        "outputId": "cee4c8b4-fa73-4f42-c131-8995347b25b3"
      },
      "execution_count": 84,
      "outputs": [
        {
          "output_type": "stream",
          "name": "stdout",
          "text": [
            "+--------------------+\n",
            "|               value|\n",
            "+--------------------+\n",
            "|   lorem ipsum dolor|\n",
            "|lorem ipsum dolor...|\n",
            "|lorem ipsum dolor...|\n",
            "|lorem ipsum dolor...|\n",
            "+--------------------+\n",
            "\n"
          ]
        }
      ]
    },
    {
      "cell_type": "markdown",
      "source": [
        "### Преобразование датафрейма"
      ],
      "metadata": {
        "id": "VebBQCfjVBcv"
      }
    },
    {
      "cell_type": "code",
      "source": [
        "words = text.select(explode(split(text.value, ' ')).alias('word'))"
      ],
      "metadata": {
        "id": "gMsvGOjLUQor"
      },
      "execution_count": 85,
      "outputs": []
    },
    {
      "cell_type": "code",
      "source": [
        "words.show()"
      ],
      "metadata": {
        "colab": {
          "base_uri": "https://localhost:8080/"
        },
        "id": "CHdAC2lJUSv1",
        "outputId": "e2781258-6a61-43ca-dd7e-e1adfe00dd77"
      },
      "execution_count": 86,
      "outputs": [
        {
          "output_type": "stream",
          "name": "stdout",
          "text": [
            "+-----+\n",
            "| word|\n",
            "+-----+\n",
            "|lorem|\n",
            "|ipsum|\n",
            "|dolor|\n",
            "|lorem|\n",
            "|ipsum|\n",
            "|dolor|\n",
            "|lorem|\n",
            "|ipsum|\n",
            "|dolor|\n",
            "|lorem|\n",
            "|ipsum|\n",
            "|dolor|\n",
            "|lorem|\n",
            "|ipsum|\n",
            "|dolor|\n",
            "|lorem|\n",
            "|ipsum|\n",
            "|dolor|\n",
            "|lorem|\n",
            "|ipsum|\n",
            "+-----+\n",
            "only showing top 20 rows\n",
            "\n"
          ]
        }
      ]
    },
    {
      "cell_type": "markdown",
      "source": [
        "### Подсчет количества каждого слова в тексте"
      ],
      "metadata": {
        "id": "8ur5VUXfVMm3"
      }
    },
    {
      "cell_type": "code",
      "source": [
        "words_count = words.groupBy('word').count()"
      ],
      "metadata": {
        "id": "ks_UgRf6Uek0"
      },
      "execution_count": 87,
      "outputs": []
    },
    {
      "cell_type": "code",
      "source": [
        "words_count.show()"
      ],
      "metadata": {
        "colab": {
          "base_uri": "https://localhost:8080/"
        },
        "id": "J0YUaorwUgIT",
        "outputId": "7b9354f9-4836-4ea0-a1c3-83e5bc216e36"
      },
      "execution_count": 88,
      "outputs": [
        {
          "output_type": "stream",
          "name": "stdout",
          "text": [
            "+-----+-----+\n",
            "| word|count|\n",
            "+-----+-----+\n",
            "|lorem|   10|\n",
            "|dolor|   10|\n",
            "|ipsum|   10|\n",
            "+-----+-----+\n",
            "\n"
          ]
        }
      ]
    }
  ]
}