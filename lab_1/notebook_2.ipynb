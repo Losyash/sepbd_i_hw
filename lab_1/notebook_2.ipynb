{
  "nbformat": 4,
  "nbformat_minor": 0,
  "metadata": {
    "colab": {
      "provenance": [],
      "toc_visible": true
    },
    "kernelspec": {
      "name": "python3",
      "display_name": "Python 3"
    },
    "language_info": {
      "name": "python"
    }
  },
  "cells": [
    {
      "cell_type": "markdown",
      "source": [
        "### Установка пакетов"
      ],
      "metadata": {
        "id": "zCgRYCDNU1-f"
      }
    },
    {
      "cell_type": "code",
      "execution_count": 34,
      "metadata": {
        "colab": {
          "base_uri": "https://localhost:8080/"
        },
        "id": "fMnIUudbQHt_",
        "outputId": "fc627208-849a-4652-fc30-e8378ed51af2"
      },
      "outputs": [
        {
          "output_type": "stream",
          "name": "stdout",
          "text": [
            "Requirement already satisfied: pyspark in /usr/local/lib/python3.10/dist-packages (3.5.3)\n",
            "Requirement already satisfied: py4j==0.10.9.7 in /usr/local/lib/python3.10/dist-packages (from pyspark) (0.10.9.7)\n"
          ]
        }
      ],
      "source": [
        "!pip install pyspark"
      ]
    },
    {
      "cell_type": "markdown",
      "source": [
        "### Импорт библиотек"
      ],
      "metadata": {
        "id": "igCwOWcVMluA"
      }
    },
    {
      "cell_type": "code",
      "execution_count": 35,
      "metadata": {
        "id": "xrNaoNOOKGFH"
      },
      "outputs": [],
      "source": [
        "from pyspark.sql import SparkSession\n",
        "from pyspark.sql.functions import split, explode\n",
        "from operator import add\n",
        "import os"
      ]
    },
    {
      "cell_type": "markdown",
      "source": [
        "### Создание экземпляра **SparkSession**"
      ],
      "metadata": {
        "id": "qZZx_CDUM2Ho"
      }
    },
    {
      "cell_type": "code",
      "source": [
        "spark = SparkSession.builder.appName(\"Homework_1_lab2\").getOrCreate()"
      ],
      "metadata": {
        "id": "c6g9u27fKJBY"
      },
      "execution_count": 36,
      "outputs": []
    },
    {
      "cell_type": "markdown",
      "source": [
        "### Генерация текстового файла"
      ],
      "metadata": {
        "id": "mQrjKaZpNFIm"
      }
    },
    {
      "cell_type": "code",
      "source": [
        "if not os.path.exists('data'):\n",
        "  os.makedirs('data')"
      ],
      "metadata": {
        "id": "pRn3LfrjPc6F"
      },
      "execution_count": 37,
      "outputs": []
    },
    {
      "cell_type": "code",
      "source": [
        "with open(\"data/words.txt\", \"w\") as f:\n",
        "  f.writelines([\n",
        "    'lorem ipsum dolor\\n',\n",
        "    'lorem ipsum dolor lorem ipsum dolor\\n',\n",
        "    'lorem ipsum dolor lorem ipsum dolor lorem ipsum dolor\\n',\n",
        "    'lorem ipsum dolor lorem ipsum dolor lorem ipsum dolor lorem ipsum dolor'\n",
        "  ])"
      ],
      "metadata": {
        "id": "7cjm02n6LBb3"
      },
      "execution_count": 38,
      "outputs": []
    },
    {
      "cell_type": "markdown",
      "source": [
        "### Считывание файла"
      ],
      "metadata": {
        "id": "et-GYhLPNLz0"
      }
    },
    {
      "cell_type": "code",
      "source": [
        "text = spark.read.text(\"data/words.txt\")"
      ],
      "metadata": {
        "id": "DjoNA5ICKaK2"
      },
      "execution_count": 39,
      "outputs": []
    },
    {
      "cell_type": "code",
      "source": [
        "text.show()"
      ],
      "metadata": {
        "colab": {
          "base_uri": "https://localhost:8080/"
        },
        "id": "LStMIFeRKsEP",
        "outputId": "e560b9cc-b07e-4294-b38c-8314d11b22ef"
      },
      "execution_count": 40,
      "outputs": [
        {
          "output_type": "stream",
          "name": "stdout",
          "text": [
            "+--------------------+\n",
            "|               value|\n",
            "+--------------------+\n",
            "|   lorem ipsum dolor|\n",
            "|lorem ipsum dolor...|\n",
            "|lorem ipsum dolor...|\n",
            "|lorem ipsum dolor...|\n",
            "+--------------------+\n",
            "\n"
          ]
        }
      ]
    },
    {
      "cell_type": "markdown",
      "source": [
        "### Преобразование датафрейма"
      ],
      "metadata": {
        "id": "VebBQCfjVBcv"
      }
    },
    {
      "cell_type": "code",
      "source": [
        "words = text.select(explode(split(text.value, ' ')).alias(\"word\"))"
      ],
      "metadata": {
        "id": "gMsvGOjLUQor"
      },
      "execution_count": 41,
      "outputs": []
    },
    {
      "cell_type": "code",
      "source": [
        "words.show()"
      ],
      "metadata": {
        "colab": {
          "base_uri": "https://localhost:8080/"
        },
        "id": "CHdAC2lJUSv1",
        "outputId": "a8e9e884-4d34-48f7-fb1c-77c08e1283ca"
      },
      "execution_count": 42,
      "outputs": [
        {
          "output_type": "stream",
          "name": "stdout",
          "text": [
            "+-----+\n",
            "| word|\n",
            "+-----+\n",
            "|lorem|\n",
            "|ipsum|\n",
            "|dolor|\n",
            "|lorem|\n",
            "|ipsum|\n",
            "|dolor|\n",
            "|lorem|\n",
            "|ipsum|\n",
            "|dolor|\n",
            "|lorem|\n",
            "|ipsum|\n",
            "|dolor|\n",
            "|lorem|\n",
            "|ipsum|\n",
            "|dolor|\n",
            "|lorem|\n",
            "|ipsum|\n",
            "|dolor|\n",
            "|lorem|\n",
            "|ipsum|\n",
            "+-----+\n",
            "only showing top 20 rows\n",
            "\n"
          ]
        }
      ]
    },
    {
      "cell_type": "markdown",
      "source": [
        "### Подсчет количества каждого слова в тексте"
      ],
      "metadata": {
        "id": "8ur5VUXfVMm3"
      }
    },
    {
      "cell_type": "code",
      "source": [
        "words_count = words.groupBy('word').count()"
      ],
      "metadata": {
        "id": "ks_UgRf6Uek0"
      },
      "execution_count": 43,
      "outputs": []
    },
    {
      "cell_type": "code",
      "source": [
        "words_count.show()"
      ],
      "metadata": {
        "colab": {
          "base_uri": "https://localhost:8080/"
        },
        "id": "J0YUaorwUgIT",
        "outputId": "8e9d049a-d0c5-4f22-902d-6da9e3a8d6f7"
      },
      "execution_count": 44,
      "outputs": [
        {
          "output_type": "stream",
          "name": "stdout",
          "text": [
            "+-----+-----+\n",
            "| word|count|\n",
            "+-----+-----+\n",
            "|lorem|   10|\n",
            "|dolor|   10|\n",
            "|ipsum|   10|\n",
            "+-----+-----+\n",
            "\n"
          ]
        }
      ]
    }
  ]
}