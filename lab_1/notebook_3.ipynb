{
  "nbformat": 4,
  "nbformat_minor": 0,
  "metadata": {
    "colab": {
      "provenance": []
    },
    "kernelspec": {
      "name": "python3",
      "display_name": "Python 3"
    },
    "language_info": {
      "name": "python"
    }
  },
  "cells": [
    {
      "cell_type": "markdown",
      "source": [
        "### Установка пакетов"
      ],
      "metadata": {
        "id": "zCgRYCDNU1-f"
      }
    },
    {
      "cell_type": "code",
      "execution_count": 241,
      "metadata": {
        "colab": {
          "base_uri": "https://localhost:8080/"
        },
        "id": "fMnIUudbQHt_",
        "outputId": "8ca1955d-462c-4bb0-e435-3dff406915dd"
      },
      "outputs": [
        {
          "output_type": "stream",
          "name": "stdout",
          "text": [
            "Requirement already satisfied: pyspark in /usr/local/lib/python3.10/dist-packages (3.5.3)\n",
            "Requirement already satisfied: py4j==0.10.9.7 in /usr/local/lib/python3.10/dist-packages (from pyspark) (0.10.9.7)\n"
          ]
        }
      ],
      "source": [
        "!pip install pyspark"
      ]
    },
    {
      "cell_type": "markdown",
      "source": [
        "### Импорт библиотек"
      ],
      "metadata": {
        "id": "igCwOWcVMluA"
      }
    },
    {
      "cell_type": "code",
      "execution_count": 242,
      "metadata": {
        "id": "xrNaoNOOKGFH"
      },
      "outputs": [],
      "source": [
        "from pyspark.sql import SparkSession\n",
        "from pyspark.sql.functions import explode, split, lower, trim, regexp_replace, desc\n",
        "from operator import add\n",
        "import os"
      ]
    },
    {
      "cell_type": "markdown",
      "source": [
        "### Создание экземпляра **SparkSession**"
      ],
      "metadata": {
        "id": "qZZx_CDUM2Ho"
      }
    },
    {
      "cell_type": "code",
      "source": [
        "spark = SparkSession.builder.appName(\"Homework_1\").getOrCreate()"
      ],
      "metadata": {
        "id": "c6g9u27fKJBY"
      },
      "execution_count": 243,
      "outputs": []
    },
    {
      "cell_type": "markdown",
      "source": [
        "### Генерация текстового файла"
      ],
      "metadata": {
        "id": "mQrjKaZpNFIm"
      }
    },
    {
      "cell_type": "code",
      "source": [
        "if not os.path.exists('data'):\n",
        "  os.makedirs('data')"
      ],
      "metadata": {
        "id": "pRn3LfrjPc6F"
      },
      "execution_count": 244,
      "outputs": []
    },
    {
      "cell_type": "code",
      "source": [
        "with open(\"data/words.txt\", \"w\") as f:\n",
        "  f.writelines([\n",
        "    'lorem ipsum dolor\\n',\n",
        "    'lorem, ipsum dolor   lorem ipsum dolor\\n',\n",
        "    'lorem ipsum__ dolor lorem ?%@ ipsum dolor lorem ipsum dolor\\n',\n",
        "    'lorem%& ipsum dolor lorem ipsum __dolor lorem ipsum ,dolor lorem ipsum dolor lorem dolorem'\n",
        "  ])"
      ],
      "metadata": {
        "id": "7cjm02n6LBb3"
      },
      "execution_count": 245,
      "outputs": []
    },
    {
      "cell_type": "markdown",
      "source": [
        "### Считывание файла"
      ],
      "metadata": {
        "id": "et-GYhLPNLz0"
      }
    },
    {
      "cell_type": "code",
      "source": [
        "text = spark.read.text(\"data/words.txt\")"
      ],
      "metadata": {
        "id": "DjoNA5ICKaK2"
      },
      "execution_count": 246,
      "outputs": []
    },
    {
      "cell_type": "code",
      "source": [
        "text.show()"
      ],
      "metadata": {
        "colab": {
          "base_uri": "https://localhost:8080/"
        },
        "id": "LStMIFeRKsEP",
        "outputId": "16fd6ac8-a10f-4a4c-eb44-ac904a058f0a"
      },
      "execution_count": 247,
      "outputs": [
        {
          "output_type": "stream",
          "name": "stdout",
          "text": [
            "+--------------------+\n",
            "|               value|\n",
            "+--------------------+\n",
            "|   lorem ipsum dolor|\n",
            "|lorem, ipsum dolo...|\n",
            "|lorem ipsum__ dol...|\n",
            "|lorem%& ipsum dol...|\n",
            "+--------------------+\n",
            "\n"
          ]
        }
      ]
    },
    {
      "cell_type": "markdown",
      "source": [
        "### Преобразование датафрейма"
      ],
      "metadata": {
        "id": "VebBQCfjVBcv"
      }
    },
    {
      "cell_type": "code",
      "source": [
        "def prepare_text(col):\n",
        "  return explode(split(lower(trim(regexp_replace(col, '[^A-Za-z0-9]', ' '))) , ' '))\n",
        "\n",
        "words = text.select(prepare_text(text.value).alias('word')).where('word != \"\"')"
      ],
      "metadata": {
        "id": "gMsvGOjLUQor"
      },
      "execution_count": 248,
      "outputs": []
    },
    {
      "cell_type": "code",
      "source": [
        "words.show()"
      ],
      "metadata": {
        "colab": {
          "base_uri": "https://localhost:8080/"
        },
        "id": "CHdAC2lJUSv1",
        "outputId": "190e44db-3df8-46aa-d9e3-b7bacdbf6635"
      },
      "execution_count": 249,
      "outputs": [
        {
          "output_type": "stream",
          "name": "stdout",
          "text": [
            "+-----+\n",
            "| word|\n",
            "+-----+\n",
            "|lorem|\n",
            "|ipsum|\n",
            "|dolor|\n",
            "|lorem|\n",
            "|ipsum|\n",
            "|dolor|\n",
            "|lorem|\n",
            "|ipsum|\n",
            "|dolor|\n",
            "|lorem|\n",
            "|ipsum|\n",
            "|dolor|\n",
            "|lorem|\n",
            "|ipsum|\n",
            "|dolor|\n",
            "|lorem|\n",
            "|ipsum|\n",
            "|dolor|\n",
            "|lorem|\n",
            "|ipsum|\n",
            "+-----+\n",
            "only showing top 20 rows\n",
            "\n"
          ]
        }
      ]
    },
    {
      "cell_type": "markdown",
      "source": [
        "### Подсчет количество каждого слова в тексте"
      ],
      "metadata": {
        "id": "tImKXdPY-6f8"
      }
    },
    {
      "cell_type": "code",
      "source": [
        "words_count = words.groupBy('word').count()"
      ],
      "metadata": {
        "id": "6EWb-IyAzSeo"
      },
      "execution_count": 250,
      "outputs": []
    },
    {
      "cell_type": "code",
      "source": [
        "words_count.show()"
      ],
      "metadata": {
        "colab": {
          "base_uri": "https://localhost:8080/"
        },
        "id": "HwmH1R-8zTo5",
        "outputId": "9ef2f3b1-0da9-4173-f278-85c25e34d18b"
      },
      "execution_count": 251,
      "outputs": [
        {
          "output_type": "stream",
          "name": "stdout",
          "text": [
            "+-------+-----+\n",
            "|   word|count|\n",
            "+-------+-----+\n",
            "|  lorem|   11|\n",
            "|  dolor|   10|\n",
            "|  ipsum|   10|\n",
            "|dolorem|    1|\n",
            "+-------+-----+\n",
            "\n"
          ]
        }
      ]
    },
    {
      "cell_type": "markdown",
      "source": [
        "### Сортировка слов в порядке убывания их количества в тексте"
      ],
      "metadata": {
        "id": "rRYwu-wm_JcU"
      }
    },
    {
      "cell_type": "code",
      "source": [
        "sorted_words_count = words_count.orderBy(desc('count'))"
      ],
      "metadata": {
        "id": "qoQYCd2Z4Zbt"
      },
      "execution_count": 252,
      "outputs": []
    },
    {
      "cell_type": "code",
      "source": [
        "sorted_words_count.show()"
      ],
      "metadata": {
        "colab": {
          "base_uri": "https://localhost:8080/"
        },
        "id": "C-gXPXTWGlzg",
        "outputId": "7f296d48-45d4-4fc0-94ba-4ca29ac80f5d"
      },
      "execution_count": 253,
      "outputs": [
        {
          "output_type": "stream",
          "name": "stdout",
          "text": [
            "+-------+-----+\n",
            "|   word|count|\n",
            "+-------+-----+\n",
            "|  lorem|   11|\n",
            "|  dolor|   10|\n",
            "|  ipsum|   10|\n",
            "|dolorem|    1|\n",
            "+-------+-----+\n",
            "\n"
          ]
        }
      ]
    },
    {
      "cell_type": "markdown",
      "source": [
        "### Получение самого часто встречаемого слова"
      ],
      "metadata": {
        "id": "fKtdpI_2_Wne"
      }
    },
    {
      "cell_type": "code",
      "source": [
        "sorted_words_count.first()"
      ],
      "metadata": {
        "colab": {
          "base_uri": "https://localhost:8080/"
        },
        "id": "6TVqBNhrzNcd",
        "outputId": "d0074f5f-98d3-499a-e30a-7c287d1a7d7e"
      },
      "execution_count": 254,
      "outputs": [
        {
          "output_type": "execute_result",
          "data": {
            "text/plain": [
              "Row(word='lorem', count=11)"
            ]
          },
          "metadata": {},
          "execution_count": 254
        }
      ]
    },
    {
      "cell_type": "markdown",
      "source": [
        "### Получение самого редко встречаемого слова"
      ],
      "metadata": {
        "id": "-rK6QWej_bpd"
      }
    },
    {
      "cell_type": "code",
      "source": [
        "sorted_words_count.tail(1)"
      ],
      "metadata": {
        "colab": {
          "base_uri": "https://localhost:8080/"
        },
        "id": "wktj4xP1zeAV",
        "outputId": "fad6b442-4b33-49a4-dd58-0fcadd3fdf73"
      },
      "execution_count": 255,
      "outputs": [
        {
          "output_type": "execute_result",
          "data": {
            "text/plain": [
              "[Row(word='dolorem', count=1)]"
            ]
          },
          "metadata": {},
          "execution_count": 255
        }
      ]
    },
    {
      "cell_type": "markdown",
      "source": [
        "### Подсчет средней встречаемости слов в тексте"
      ],
      "metadata": {
        "id": "LajM61yk_vR8"
      }
    },
    {
      "cell_type": "code",
      "source": [
        "sorted_words_count.groupBy().mean().collect()"
      ],
      "metadata": {
        "colab": {
          "base_uri": "https://localhost:8080/"
        },
        "id": "r2hkqrcXz9IP",
        "outputId": "da60106c-d356-4b1c-c11a-2ec27ab99775"
      },
      "execution_count": 256,
      "outputs": [
        {
          "output_type": "execute_result",
          "data": {
            "text/plain": [
              "[Row(avg(count)=8.0)]"
            ]
          },
          "metadata": {},
          "execution_count": 256
        }
      ]
    },
    {
      "cell_type": "markdown",
      "source": [
        "### Подсчет уникального числа слов в тексте\n"
      ],
      "metadata": {
        "id": "MQdO9XaBA81D"
      }
    },
    {
      "cell_type": "code",
      "source": [
        "sorted_words_count.count()"
      ],
      "metadata": {
        "colab": {
          "base_uri": "https://localhost:8080/"
        },
        "id": "D-KSFbMH0A5S",
        "outputId": "5dc20833-c949-4318-f114-3deb202edb3f"
      },
      "execution_count": 257,
      "outputs": [
        {
          "output_type": "execute_result",
          "data": {
            "text/plain": [
              "4"
            ]
          },
          "metadata": {},
          "execution_count": 257
        }
      ]
    },
    {
      "cell_type": "markdown",
      "source": [
        "### Подсчет общего числа слов в тексте"
      ],
      "metadata": {
        "id": "O7rNHpIoBAyO"
      }
    },
    {
      "cell_type": "code",
      "source": [
        "sorted_words_count.agg({'count': 'sum'}).collect()[0][0]"
      ],
      "metadata": {
        "colab": {
          "base_uri": "https://localhost:8080/"
        },
        "id": "CnMb0PiX0Ebl",
        "outputId": "9d81b24d-d5a3-4365-abc6-ec3f3f252800"
      },
      "execution_count": 258,
      "outputs": [
        {
          "output_type": "execute_result",
          "data": {
            "text/plain": [
              "32"
            ]
          },
          "metadata": {},
          "execution_count": 258
        }
      ]
    }
  ]
}