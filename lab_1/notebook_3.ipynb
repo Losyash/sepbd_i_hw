{
  "nbformat": 4,
  "nbformat_minor": 0,
  "metadata": {
    "colab": {
      "provenance": [],
      "toc_visible": true
    },
    "kernelspec": {
      "name": "python3",
      "display_name": "Python 3"
    },
    "language_info": {
      "name": "python"
    }
  },
  "cells": [
    {
      "cell_type": "markdown",
      "source": [
        "### Установка пакетов"
      ],
      "metadata": {
        "id": "zCgRYCDNU1-f"
      }
    },
    {
      "cell_type": "code",
      "execution_count": 295,
      "metadata": {
        "colab": {
          "base_uri": "https://localhost:8080/"
        },
        "id": "fMnIUudbQHt_",
        "outputId": "b68fac3e-b489-46db-942c-365fd52607de"
      },
      "outputs": [
        {
          "output_type": "stream",
          "name": "stdout",
          "text": [
            "Requirement already satisfied: pyspark in /usr/local/lib/python3.10/dist-packages (3.5.3)\n",
            "Requirement already satisfied: py4j==0.10.9.7 in /usr/local/lib/python3.10/dist-packages (from pyspark) (0.10.9.7)\n"
          ]
        }
      ],
      "source": [
        "!pip install pyspark"
      ]
    },
    {
      "cell_type": "markdown",
      "source": [
        "### Импорт библиотек"
      ],
      "metadata": {
        "id": "igCwOWcVMluA"
      }
    },
    {
      "cell_type": "code",
      "execution_count": 296,
      "metadata": {
        "id": "xrNaoNOOKGFH"
      },
      "outputs": [],
      "source": [
        "from pyspark.sql import SparkSession\n",
        "from pyspark.sql.functions import explode, split, lower, trim, regexp_replace, desc\n",
        "from operator import add\n",
        "import os"
      ]
    },
    {
      "cell_type": "markdown",
      "source": [
        "### Создание экземпляра **SparkSession**"
      ],
      "metadata": {
        "id": "qZZx_CDUM2Ho"
      }
    },
    {
      "cell_type": "code",
      "source": [
        "spark = SparkSession.builder.appName('Homework_1_lab3').getOrCreate()"
      ],
      "metadata": {
        "id": "c6g9u27fKJBY"
      },
      "execution_count": 297,
      "outputs": []
    },
    {
      "cell_type": "markdown",
      "source": [
        "### Генерация текстового файла"
      ],
      "metadata": {
        "id": "mQrjKaZpNFIm"
      }
    },
    {
      "cell_type": "code",
      "source": [
        "if not os.path.exists('data'):\n",
        "  os.makedirs('data')"
      ],
      "metadata": {
        "id": "pRn3LfrjPc6F"
      },
      "execution_count": 298,
      "outputs": []
    },
    {
      "cell_type": "code",
      "source": [
        "with open('data/words.txt', 'w') as f:\n",
        "  f.writelines([\n",
        "    'lorem ipsum dolor\\n',\n",
        "    'lorem, ipsum dolor   lorem ipsum dolor\\n',\n",
        "    'lorem ipsum__ dolor lorem ?%@ ipsum dolor lorem ipsum dolor\\n',\n",
        "    'lorem%& ipsum dolor lorem ipsum __dolor lorem ipsum ,dolor lorem ipsum dolor lorem dolorem'\n",
        "  ])"
      ],
      "metadata": {
        "id": "7cjm02n6LBb3"
      },
      "execution_count": 299,
      "outputs": []
    },
    {
      "cell_type": "markdown",
      "source": [
        "### Считывание файла"
      ],
      "metadata": {
        "id": "et-GYhLPNLz0"
      }
    },
    {
      "cell_type": "code",
      "source": [
        "text = spark.read.text('data/words.txt')"
      ],
      "metadata": {
        "id": "DjoNA5ICKaK2"
      },
      "execution_count": 300,
      "outputs": []
    },
    {
      "cell_type": "code",
      "source": [
        "text.show()"
      ],
      "metadata": {
        "colab": {
          "base_uri": "https://localhost:8080/"
        },
        "id": "LStMIFeRKsEP",
        "outputId": "64b7b570-cd04-4496-bb6c-623ce9e1bb5f"
      },
      "execution_count": 301,
      "outputs": [
        {
          "output_type": "stream",
          "name": "stdout",
          "text": [
            "+--------------------+\n",
            "|               value|\n",
            "+--------------------+\n",
            "|   lorem ipsum dolor|\n",
            "|lorem, ipsum dolo...|\n",
            "|lorem ipsum__ dol...|\n",
            "|lorem%& ipsum dol...|\n",
            "+--------------------+\n",
            "\n"
          ]
        }
      ]
    },
    {
      "cell_type": "markdown",
      "source": [
        "### Преобразование датафрейма"
      ],
      "metadata": {
        "id": "VebBQCfjVBcv"
      }
    },
    {
      "cell_type": "code",
      "source": [
        "def prepare_text(col):\n",
        "  return explode(split(lower(trim(regexp_replace(col, '[^A-Za-z0-9]', ' '))) , ' '))\n",
        "\n",
        "words = text.select(prepare_text(text.value).alias('word')).where('word != \"\"')"
      ],
      "metadata": {
        "id": "gMsvGOjLUQor"
      },
      "execution_count": 302,
      "outputs": []
    },
    {
      "cell_type": "code",
      "source": [
        "words.show()"
      ],
      "metadata": {
        "colab": {
          "base_uri": "https://localhost:8080/"
        },
        "id": "CHdAC2lJUSv1",
        "outputId": "f18a86ce-06fe-451d-fe3b-f6a34b3596d2"
      },
      "execution_count": 303,
      "outputs": [
        {
          "output_type": "stream",
          "name": "stdout",
          "text": [
            "+-----+\n",
            "| word|\n",
            "+-----+\n",
            "|lorem|\n",
            "|ipsum|\n",
            "|dolor|\n",
            "|lorem|\n",
            "|ipsum|\n",
            "|dolor|\n",
            "|lorem|\n",
            "|ipsum|\n",
            "|dolor|\n",
            "|lorem|\n",
            "|ipsum|\n",
            "|dolor|\n",
            "|lorem|\n",
            "|ipsum|\n",
            "|dolor|\n",
            "|lorem|\n",
            "|ipsum|\n",
            "|dolor|\n",
            "|lorem|\n",
            "|ipsum|\n",
            "+-----+\n",
            "only showing top 20 rows\n",
            "\n"
          ]
        }
      ]
    },
    {
      "cell_type": "markdown",
      "source": [
        "### Подсчет количество каждого слова в тексте"
      ],
      "metadata": {
        "id": "tImKXdPY-6f8"
      }
    },
    {
      "cell_type": "code",
      "source": [
        "words_count = words.groupBy('word').count()"
      ],
      "metadata": {
        "id": "6EWb-IyAzSeo"
      },
      "execution_count": 304,
      "outputs": []
    },
    {
      "cell_type": "code",
      "source": [
        "words_count.show()"
      ],
      "metadata": {
        "colab": {
          "base_uri": "https://localhost:8080/"
        },
        "id": "HwmH1R-8zTo5",
        "outputId": "d44293d0-aff2-4fba-8f14-e11838c08880"
      },
      "execution_count": 305,
      "outputs": [
        {
          "output_type": "stream",
          "name": "stdout",
          "text": [
            "+-------+-----+\n",
            "|   word|count|\n",
            "+-------+-----+\n",
            "|  lorem|   11|\n",
            "|  dolor|   10|\n",
            "|  ipsum|   10|\n",
            "|dolorem|    1|\n",
            "+-------+-----+\n",
            "\n"
          ]
        }
      ]
    },
    {
      "cell_type": "markdown",
      "source": [
        "### Сортировка слов в порядке убывания их количества в тексте"
      ],
      "metadata": {
        "id": "rRYwu-wm_JcU"
      }
    },
    {
      "cell_type": "code",
      "source": [
        "sorted_words_count = words_count.orderBy(desc('count'))"
      ],
      "metadata": {
        "id": "qoQYCd2Z4Zbt"
      },
      "execution_count": 306,
      "outputs": []
    },
    {
      "cell_type": "code",
      "source": [
        "sorted_words_count.show()"
      ],
      "metadata": {
        "colab": {
          "base_uri": "https://localhost:8080/"
        },
        "id": "C-gXPXTWGlzg",
        "outputId": "504afea9-b155-46fe-c2b0-5c08c340bca4"
      },
      "execution_count": 307,
      "outputs": [
        {
          "output_type": "stream",
          "name": "stdout",
          "text": [
            "+-------+-----+\n",
            "|   word|count|\n",
            "+-------+-----+\n",
            "|  lorem|   11|\n",
            "|  dolor|   10|\n",
            "|  ipsum|   10|\n",
            "|dolorem|    1|\n",
            "+-------+-----+\n",
            "\n"
          ]
        }
      ]
    },
    {
      "cell_type": "markdown",
      "source": [
        "### Получение самого часто встречаемого слова"
      ],
      "metadata": {
        "id": "fKtdpI_2_Wne"
      }
    },
    {
      "cell_type": "code",
      "source": [
        "sorted_words_count.first()"
      ],
      "metadata": {
        "colab": {
          "base_uri": "https://localhost:8080/"
        },
        "id": "6TVqBNhrzNcd",
        "outputId": "09ff0a21-b38a-45ea-ef96-e605eb8f8bf6"
      },
      "execution_count": 308,
      "outputs": [
        {
          "output_type": "execute_result",
          "data": {
            "text/plain": [
              "Row(word='lorem', count=11)"
            ]
          },
          "metadata": {},
          "execution_count": 308
        }
      ]
    },
    {
      "cell_type": "markdown",
      "source": [
        "### Получение самого редко встречаемого слова"
      ],
      "metadata": {
        "id": "-rK6QWej_bpd"
      }
    },
    {
      "cell_type": "code",
      "source": [
        "sorted_words_count.tail(1)"
      ],
      "metadata": {
        "colab": {
          "base_uri": "https://localhost:8080/"
        },
        "id": "wktj4xP1zeAV",
        "outputId": "7a62a76f-bba3-4035-b87f-317a8514e707"
      },
      "execution_count": 309,
      "outputs": [
        {
          "output_type": "execute_result",
          "data": {
            "text/plain": [
              "[Row(word='dolorem', count=1)]"
            ]
          },
          "metadata": {},
          "execution_count": 309
        }
      ]
    },
    {
      "cell_type": "markdown",
      "source": [
        "### Подсчет средней встречаемости слов в тексте"
      ],
      "metadata": {
        "id": "LajM61yk_vR8"
      }
    },
    {
      "cell_type": "code",
      "source": [
        "sorted_words_count.groupBy().mean().collect()"
      ],
      "metadata": {
        "colab": {
          "base_uri": "https://localhost:8080/"
        },
        "id": "r2hkqrcXz9IP",
        "outputId": "af6e232b-e799-4fb7-86ea-ed120ece557b"
      },
      "execution_count": 310,
      "outputs": [
        {
          "output_type": "execute_result",
          "data": {
            "text/plain": [
              "[Row(avg(count)=8.0)]"
            ]
          },
          "metadata": {},
          "execution_count": 310
        }
      ]
    },
    {
      "cell_type": "markdown",
      "source": [
        "### Подсчет уникального числа слов в тексте\n"
      ],
      "metadata": {
        "id": "MQdO9XaBA81D"
      }
    },
    {
      "cell_type": "code",
      "source": [
        "sorted_words_count.count()"
      ],
      "metadata": {
        "colab": {
          "base_uri": "https://localhost:8080/"
        },
        "id": "D-KSFbMH0A5S",
        "outputId": "f0cd89a1-4e1c-4834-cea8-054d705ba20f"
      },
      "execution_count": 311,
      "outputs": [
        {
          "output_type": "execute_result",
          "data": {
            "text/plain": [
              "4"
            ]
          },
          "metadata": {},
          "execution_count": 311
        }
      ]
    },
    {
      "cell_type": "markdown",
      "source": [
        "### Подсчет общего числа слов в тексте"
      ],
      "metadata": {
        "id": "O7rNHpIoBAyO"
      }
    },
    {
      "cell_type": "code",
      "source": [
        "sorted_words_count.agg({'count': 'sum'}).collect()[0][0]"
      ],
      "metadata": {
        "colab": {
          "base_uri": "https://localhost:8080/"
        },
        "id": "CnMb0PiX0Ebl",
        "outputId": "38c36ad3-b18f-41d9-d920-2d346a8396d0"
      },
      "execution_count": 312,
      "outputs": [
        {
          "output_type": "execute_result",
          "data": {
            "text/plain": [
              "32"
            ]
          },
          "metadata": {},
          "execution_count": 312
        }
      ]
    }
  ]
}