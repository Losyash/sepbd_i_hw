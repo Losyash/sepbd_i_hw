{
  "nbformat": 4,
  "nbformat_minor": 0,
  "metadata": {
    "colab": {
      "provenance": [],
      "toc_visible": true
    },
    "kernelspec": {
      "name": "python3",
      "display_name": "Python 3"
    },
    "language_info": {
      "name": "python"
    }
  },
  "cells": [
    {
      "cell_type": "markdown",
      "source": [
        "### Установка пакетов"
      ],
      "metadata": {
        "id": "srZYJc0vUoYO"
      }
    },
    {
      "cell_type": "code",
      "source": [
        "!pip install pyspark"
      ],
      "metadata": {
        "colab": {
          "base_uri": "https://localhost:8080/"
        },
        "id": "TCEnC4VRUnaZ",
        "outputId": "27e68f60-9479-47fb-951f-2e9339f728d5"
      },
      "execution_count": 46,
      "outputs": [
        {
          "output_type": "stream",
          "name": "stdout",
          "text": [
            "Requirement already satisfied: pyspark in /usr/local/lib/python3.10/dist-packages (3.5.3)\n",
            "Requirement already satisfied: py4j==0.10.9.7 in /usr/local/lib/python3.10/dist-packages (from pyspark) (0.10.9.7)\n"
          ]
        }
      ]
    },
    {
      "cell_type": "markdown",
      "source": [
        "### Импорт библиотек"
      ],
      "metadata": {
        "id": "igCwOWcVMluA"
      }
    },
    {
      "cell_type": "code",
      "execution_count": 47,
      "metadata": {
        "id": "xrNaoNOOKGFH"
      },
      "outputs": [],
      "source": [
        "from pyspark.sql import SparkSession\n",
        "from operator import add\n",
        "import os"
      ]
    },
    {
      "cell_type": "markdown",
      "source": [
        "### Создание экземпляра **SparkSession**"
      ],
      "metadata": {
        "id": "qZZx_CDUM2Ho"
      }
    },
    {
      "cell_type": "code",
      "source": [
        "spark = SparkSession.builder.appName('Homework_1_lab1').getOrCreate()"
      ],
      "metadata": {
        "id": "c6g9u27fKJBY"
      },
      "execution_count": 48,
      "outputs": []
    },
    {
      "cell_type": "markdown",
      "source": [
        "### Генерация текстового файла"
      ],
      "metadata": {
        "id": "mQrjKaZpNFIm"
      }
    },
    {
      "cell_type": "code",
      "source": [
        "if not os.path.exists('data'):\n",
        "  os.makedirs('data')"
      ],
      "metadata": {
        "id": "pRn3LfrjPc6F"
      },
      "execution_count": 49,
      "outputs": []
    },
    {
      "cell_type": "code",
      "source": [
        "with open('data/words.txt', 'w') as f:\n",
        "  f.writelines([\n",
        "    'lorem ipsum dolor\\n',\n",
        "    'lorem ipsum dolor lorem ipsum dolor\\n',\n",
        "    'lorem ipsum dolor lorem ipsum dolor lorem ipsum dolor\\n',\n",
        "    'lorem ipsum dolor lorem ipsum dolor lorem ipsum dolor lorem ipsum dolor'\n",
        "  ])"
      ],
      "metadata": {
        "id": "7cjm02n6LBb3"
      },
      "execution_count": 50,
      "outputs": []
    },
    {
      "cell_type": "markdown",
      "source": [
        "### Считывание файла"
      ],
      "metadata": {
        "id": "et-GYhLPNLz0"
      }
    },
    {
      "cell_type": "code",
      "source": [
        "text = spark.read.text('data/words.txt')"
      ],
      "metadata": {
        "id": "DjoNA5ICKaK2"
      },
      "execution_count": 51,
      "outputs": []
    },
    {
      "cell_type": "code",
      "source": [
        "text.show()"
      ],
      "metadata": {
        "colab": {
          "base_uri": "https://localhost:8080/"
        },
        "id": "LStMIFeRKsEP",
        "outputId": "9c59f424-683a-45cb-e24c-1006eedaf17f"
      },
      "execution_count": 52,
      "outputs": [
        {
          "output_type": "stream",
          "name": "stdout",
          "text": [
            "+--------------------+\n",
            "|               value|\n",
            "+--------------------+\n",
            "|   lorem ipsum dolor|\n",
            "|lorem ipsum dolor...|\n",
            "|lorem ipsum dolor...|\n",
            "|lorem ipsum dolor...|\n",
            "+--------------------+\n",
            "\n"
          ]
        }
      ]
    },
    {
      "cell_type": "markdown",
      "source": [
        "### Подсчет количества каждого слова в тексте"
      ],
      "metadata": {
        "id": "FoG10NffOpzB"
      }
    },
    {
      "cell_type": "code",
      "source": [
        "pipeline = text.rdd \\\n",
        "  .map(lambda row: row[0]) \\\n",
        "  .flatMap(lambda x: x.split(' ')) \\\n",
        "  .map(lambda x: (x, 1)) \\\n",
        "  .reduceByKey(add)\n",
        "\n",
        "result = pipeline.collect()"
      ],
      "metadata": {
        "id": "SWszlmSIKuZB"
      },
      "execution_count": 53,
      "outputs": []
    },
    {
      "cell_type": "code",
      "source": [
        "for row in result:\n",
        "  print(row)"
      ],
      "metadata": {
        "colab": {
          "base_uri": "https://localhost:8080/"
        },
        "id": "P7LU5ZYlKzuE",
        "outputId": "fccf28ce-c1f9-4c6d-e507-962765e0185e"
      },
      "execution_count": 54,
      "outputs": [
        {
          "output_type": "stream",
          "name": "stdout",
          "text": [
            "('lorem', 10)\n",
            "('ipsum', 10)\n",
            "('dolor', 10)\n"
          ]
        }
      ]
    }
  ]
}