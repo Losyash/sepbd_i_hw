{
  "nbformat": 4,
  "nbformat_minor": 0,
  "metadata": {
    "colab": {
      "provenance": []
    },
    "kernelspec": {
      "name": "python3",
      "display_name": "Python 3"
    },
    "language_info": {
      "name": "python"
    }
  },
  "cells": [
    {
      "cell_type": "markdown",
      "source": [
        "### Установка пакетов"
      ],
      "metadata": {
        "id": "xydrmfnDr7KX"
      }
    },
    {
      "cell_type": "code",
      "source": [
        "!pip install pyspark"
      ],
      "metadata": {
        "colab": {
          "base_uri": "https://localhost:8080/"
        },
        "id": "ezujwGoDr-on",
        "outputId": "6a74a122-8498-47a5-8702-d2d958f5dd03"
      },
      "execution_count": 5,
      "outputs": [
        {
          "output_type": "stream",
          "name": "stdout",
          "text": [
            "Requirement already satisfied: pyspark in /usr/local/lib/python3.10/dist-packages (3.5.3)\n",
            "Requirement already satisfied: py4j==0.10.9.7 in /usr/local/lib/python3.10/dist-packages (from pyspark) (0.10.9.7)\n"
          ]
        }
      ]
    },
    {
      "cell_type": "markdown",
      "source": [
        "### Импорт библиотек"
      ],
      "metadata": {
        "id": "k3CMXpjpptKn"
      }
    },
    {
      "cell_type": "code",
      "source": [
        "import pandas as pd\n",
        "import random\n",
        "from pyspark.sql import SparkSession\n",
        "from pyspark.sql.functions import col\n",
        "import os\n",
        "import urllib.request"
      ],
      "metadata": {
        "id": "0bxIuW3BnoW3"
      },
      "execution_count": 6,
      "outputs": []
    },
    {
      "cell_type": "markdown",
      "source": [
        "### Генерация номера задания"
      ],
      "metadata": {
        "id": "lmxmF6rXpx09"
      }
    },
    {
      "cell_type": "code",
      "execution_count": 7,
      "metadata": {
        "id": "GsQcJz30OPaB"
      },
      "outputs": [],
      "source": [
        "# random.randint(1, 200)"
      ]
    },
    {
      "cell_type": "markdown",
      "source": [
        "Сгенерирован номер с заданием 99"
      ],
      "metadata": {
        "id": "d2WFc0YWpnDT"
      }
    },
    {
      "cell_type": "markdown",
      "source": [
        "### Создание каталога data для хранения данных и загрузка данных"
      ],
      "metadata": {
        "id": "K6R5CQOwOvL0"
      }
    },
    {
      "cell_type": "code",
      "source": [
        "if not os.path.exists('data'):\n",
        "  os.makedirs('data')\n",
        "\n",
        "urllib.request.urlretrieve('https://raw.githubusercontent.com/Losyash/sepbd_i_hw/refs/heads/master/lab_2/data/2.csv', 'data/2.csv')"
      ],
      "metadata": {
        "id": "nO80cT1kOzDV",
        "colab": {
          "base_uri": "https://localhost:8080/"
        },
        "outputId": "e4daf6d9-ce63-4620-adbc-c1d666a9681d"
      },
      "execution_count": 8,
      "outputs": [
        {
          "output_type": "execute_result",
          "data": {
            "text/plain": [
              "('data/2.csv', <http.client.HTTPMessage at 0x7bb40f4623b0>)"
            ]
          },
          "metadata": {},
          "execution_count": 8
        }
      ]
    },
    {
      "cell_type": "markdown",
      "source": [
        "### Создание экземпляра SparkSession"
      ],
      "metadata": {
        "id": "29kEYlPZp64Z"
      }
    },
    {
      "cell_type": "code",
      "source": [
        "spark = SparkSession.builder.appName('Homework_2_lab2').getOrCreate()"
      ],
      "metadata": {
        "id": "IGshgYlPsS5r"
      },
      "execution_count": 9,
      "outputs": []
    },
    {
      "cell_type": "markdown",
      "source": [
        "### Задание 1. Считать файл 1.csv и создать Spark DataFrame"
      ],
      "metadata": {
        "id": "o-SD5MFn07MT"
      }
    },
    {
      "cell_type": "code",
      "source": [
        "df = spark.read.format(\"csv\").option(\"header\", \"true\").load(\"data/2.csv\")\n",
        "df.show(5)"
      ],
      "metadata": {
        "colab": {
          "base_uri": "https://localhost:8080/"
        },
        "id": "2E6p3JQj1ypM",
        "outputId": "18790a99-8806-4bd7-ddf4-22c48b671b09"
      },
      "execution_count": 10,
      "outputs": [
        {
          "output_type": "stream",
          "name": "stdout",
          "text": [
            "+-------+-----------+-------------------+-------+-------+-------+-------+\n",
            "|item_id|description|           category|  price| weight| length|  width|\n",
            "+-------+-----------+-------------------+-------+-------+-------+-------+\n",
            "|      1|     Item 1|    Bath and Beauty|3045.71|1086.34|1324.01|  11.18|\n",
            "|      2|     Item 2|  Pantry and Snacks|1500.43|  33.01|1265.36| 697.48|\n",
            "|      3|     Item 3|Musical Instruments| 125.81|5849.18|2265.22|2856.18|\n",
            "|      4|     Item 4|      Baby Products|1065.07|2742.43|1283.44|3842.33|\n",
            "|      5|     Item 5|      Baby Products|3343.72|3108.81|1525.39|1728.18|\n",
            "+-------+-----------+-------------------+-------+-------+-------+-------+\n",
            "only showing top 5 rows\n",
            "\n"
          ]
        }
      ]
    },
    {
      "cell_type": "markdown",
      "source": [
        "### Задание 2. Вывести первые 8 строк"
      ],
      "metadata": {
        "id": "n5iczfPJO1gs"
      }
    },
    {
      "cell_type": "code",
      "source": [
        "df.show(8)"
      ],
      "metadata": {
        "colab": {
          "base_uri": "https://localhost:8080/"
        },
        "id": "e89QctNAO5fP",
        "outputId": "4787bfc8-b84e-47b1-93e6-21188fdd4852"
      },
      "execution_count": 11,
      "outputs": [
        {
          "output_type": "stream",
          "name": "stdout",
          "text": [
            "+-------+-----------+-------------------+-------+-------+-------+-------+\n",
            "|item_id|description|           category|  price| weight| length|  width|\n",
            "+-------+-----------+-------------------+-------+-------+-------+-------+\n",
            "|      1|     Item 1|    Bath and Beauty|3045.71|1086.34|1324.01|  11.18|\n",
            "|      2|     Item 2|  Pantry and Snacks|1500.43|  33.01|1265.36| 697.48|\n",
            "|      3|     Item 3|Musical Instruments| 125.81|5849.18|2265.22|2856.18|\n",
            "|      4|     Item 4|      Baby Products|1065.07|2742.43|1283.44|3842.33|\n",
            "|      5|     Item 5|      Baby Products|3343.72|3108.81|1525.39|1728.18|\n",
            "|      6|     Item 6|         Stationery|2889.09| 618.78|4413.94|1073.71|\n",
            "|      7|     Item 7|        Accessories|2401.08|2814.12|6174.96|2981.73|\n",
            "|      8|     Item 8|      Baby Products|2440.76| 4332.7|3257.63|5492.77|\n",
            "+-------+-----------+-------------------+-------+-------+-------+-------+\n",
            "only showing top 8 rows\n",
            "\n"
          ]
        }
      ]
    },
    {
      "cell_type": "code",
      "source": [
        "df.head(8)"
      ],
      "metadata": {
        "colab": {
          "base_uri": "https://localhost:8080/"
        },
        "id": "HKINnlw0O9kR",
        "outputId": "5b7f5410-784d-44a8-f39a-8ba1b4b543a4"
      },
      "execution_count": 12,
      "outputs": [
        {
          "output_type": "execute_result",
          "data": {
            "text/plain": [
              "[Row(item_id='1', description='Item 1', category='Bath and Beauty', price='3045.71', weight='1086.34', length='1324.01', width='11.18'),\n",
              " Row(item_id='2', description='Item 2', category='Pantry and Snacks', price='1500.43', weight='33.01', length='1265.36', width='697.48'),\n",
              " Row(item_id='3', description='Item 3', category='Musical Instruments', price='125.81', weight='5849.18', length='2265.22', width='2856.18'),\n",
              " Row(item_id='4', description='Item 4', category='Baby Products', price='1065.07', weight='2742.43', length='1283.44', width='3842.33'),\n",
              " Row(item_id='5', description='Item 5', category='Baby Products', price='3343.72', weight='3108.81', length='1525.39', width='1728.18'),\n",
              " Row(item_id='6', description='Item 6', category='Stationery', price='2889.09', weight='618.78', length='4413.94', width='1073.71'),\n",
              " Row(item_id='7', description='Item 7', category='Accessories', price='2401.08', weight='2814.12', length='6174.96', width='2981.73'),\n",
              " Row(item_id='8', description='Item 8', category='Baby Products', price='2440.76', weight='4332.7', length='3257.63', width='5492.77')]"
            ]
          },
          "metadata": {},
          "execution_count": 12
        }
      ]
    },
    {
      "cell_type": "markdown",
      "source": [
        "### Задание 3. Отфильтровать данные, где ```price < 4779.0```"
      ],
      "metadata": {
        "id": "nO9is4gLPAcS"
      }
    },
    {
      "cell_type": "code",
      "source": [
        "df_filtered = df.filter(df.price < 4779.0)\n",
        "df_filtered.show(5)"
      ],
      "metadata": {
        "colab": {
          "base_uri": "https://localhost:8080/"
        },
        "id": "FTvQBqvZRLAB",
        "outputId": "7c599e2d-6431-4dfe-8783-93590c79c63d"
      },
      "execution_count": 13,
      "outputs": [
        {
          "output_type": "stream",
          "name": "stdout",
          "text": [
            "+-------+-----------+-------------------+-------+-------+-------+-------+\n",
            "|item_id|description|           category|  price| weight| length|  width|\n",
            "+-------+-----------+-------------------+-------+-------+-------+-------+\n",
            "|      1|     Item 1|    Bath and Beauty|3045.71|1086.34|1324.01|  11.18|\n",
            "|      2|     Item 2|  Pantry and Snacks|1500.43|  33.01|1265.36| 697.48|\n",
            "|      3|     Item 3|Musical Instruments| 125.81|5849.18|2265.22|2856.18|\n",
            "|      4|     Item 4|      Baby Products|1065.07|2742.43|1283.44|3842.33|\n",
            "|      5|     Item 5|      Baby Products|3343.72|3108.81|1525.39|1728.18|\n",
            "+-------+-----------+-------------------+-------+-------+-------+-------+\n",
            "only showing top 5 rows\n",
            "\n"
          ]
        }
      ]
    },
    {
      "cell_type": "markdown",
      "source": [
        "### Задание 4. Подсчитать, сколько строк было отфильтровано на предыдущем шаге 3"
      ],
      "metadata": {
        "id": "nREtYT2RQO4X"
      }
    },
    {
      "cell_type": "code",
      "source": [
        "df.count() - df_filtered.count()"
      ],
      "metadata": {
        "colab": {
          "base_uri": "https://localhost:8080/"
        },
        "id": "qrl3KvGnRXiP",
        "outputId": "9caca25a-ebef-4230-cebc-eb9c5da045f6"
      },
      "execution_count": 14,
      "outputs": [
        {
          "output_type": "execute_result",
          "data": {
            "text/plain": [
              "120"
            ]
          },
          "metadata": {},
          "execution_count": 14
        }
      ]
    },
    {
      "cell_type": "markdown",
      "source": [
        "### Задание 5. Выполнить группировку по полю category, для каждой категории рассчитав ```количество элементов в группе, min price, avg weight```"
      ],
      "metadata": {
        "id": "viq7s1ioQZEz"
      }
    },
    {
      "cell_type": "code",
      "source": [
        "df_grouped = df_filtered.groupBy('category') \\\n",
        "   .agg({ 'item_id': 'count', 'price': 'min', 'weight': 'avg' })\n",
        "\n",
        "df_grouped.show()"
      ],
      "metadata": {
        "colab": {
          "base_uri": "https://localhost:8080/"
        },
        "id": "crPuhHSlVcNq",
        "outputId": "01057c56-f44a-4419-b2af-39ceef44e123"
      },
      "execution_count": 15,
      "outputs": [
        {
          "output_type": "stream",
          "name": "stdout",
          "text": [
            "+-------------------+--------------+----------+------------------+\n",
            "|           category|count(item_id)|min(price)|       avg(weight)|\n",
            "+-------------------+--------------+----------+------------------+\n",
            "|        Accessories|            26|    101.46|2112.1780769230763|\n",
            "|       Art Supplies|            22|    116.13| 2517.932272727272|\n",
            "|      Baby Products|            29|   1013.13|           3045.91|\n",
            "|    Bath and Beauty|            28|   1195.44|2338.1842857142856|\n",
            "| Bedding and Linens|            25|   1218.29|         3319.9236|\n",
            "|              Books|            28|   1002.06| 2800.758928571428|\n",
            "|           Clothing|            25|   1144.66|          2933.078|\n",
            "|        Electronics|            23|   1265.69| 1867.644782608696|\n",
            "|          Furniture|            17|   1064.43|1704.3170588235296|\n",
            "|    Gaming Consoles|            17|   1034.54|1461.5329411764706|\n",
            "|         Home Goods|            23|   1012.46|2314.7847826086954|\n",
            "| Kitchen Appliances|            28|   1021.84|          2879.405|\n",
            "|Musical Instruments|            27|    108.07|3384.7081481481473|\n",
            "|  Pantry and Snacks|            30|   1140.26| 2728.289666666667|\n",
            "|       Pet Supplies|            27|    138.19|2877.2744444444447|\n",
            "|              Shoes|            35|   1031.28| 2224.669714285714|\n",
            "|   Sports Equipment|            37|   1062.72|2326.5981081081077|\n",
            "|         Stationery|            24|    1162.9|2516.5499999999997|\n",
            "|               Toys|            32|     11.61|2907.9934375000003|\n",
            "+-------------------+--------------+----------+------------------+\n",
            "\n"
          ]
        }
      ]
    },
    {
      "cell_type": "markdown",
      "source": [
        "### Задание 6. Записать полученный набор данных в файл r_2.json"
      ],
      "metadata": {
        "id": "Zo_-K_dDNl2c"
      }
    },
    {
      "cell_type": "code",
      "source": [
        "df_grouped.write.json('data/r_2.json', mode='overwrite')"
      ],
      "metadata": {
        "id": "pDfZE6uIVcj-"
      },
      "execution_count": 16,
      "outputs": []
    }
  ]
}