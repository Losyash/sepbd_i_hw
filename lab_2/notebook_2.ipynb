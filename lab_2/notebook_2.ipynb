{
  "nbformat": 4,
  "nbformat_minor": 0,
  "metadata": {
    "colab": {
      "provenance": [],
      "toc_visible": true
    },
    "kernelspec": {
      "name": "python3",
      "display_name": "Python 3"
    },
    "language_info": {
      "name": "python"
    }
  },
  "cells": [
    {
      "cell_type": "markdown",
      "source": [
        "### Установка пакетов"
      ],
      "metadata": {
        "id": "xydrmfnDr7KX"
      }
    },
    {
      "cell_type": "code",
      "source": [
        "!pip install pyspark"
      ],
      "metadata": {
        "colab": {
          "base_uri": "https://localhost:8080/"
        },
        "id": "ezujwGoDr-on",
        "outputId": "2f2d7052-b2d9-4e31-8b18-41a818aa09df"
      },
      "execution_count": 7,
      "outputs": [
        {
          "output_type": "stream",
          "name": "stdout",
          "text": [
            "Requirement already satisfied: pyspark in /usr/local/lib/python3.10/dist-packages (3.5.3)\n",
            "Requirement already satisfied: py4j==0.10.9.7 in /usr/local/lib/python3.10/dist-packages (from pyspark) (0.10.9.7)\n"
          ]
        }
      ]
    },
    {
      "cell_type": "markdown",
      "source": [
        "### Импорт библиотек"
      ],
      "metadata": {
        "id": "k3CMXpjpptKn"
      }
    },
    {
      "cell_type": "code",
      "source": [
        "import random\n",
        "from pyspark.sql import SparkSession\n",
        "from pyspark.sql.functions import col\n",
        "import os"
      ],
      "metadata": {
        "id": "0bxIuW3BnoW3"
      },
      "execution_count": 8,
      "outputs": []
    },
    {
      "cell_type": "markdown",
      "source": [
        "### Генерация номера задания"
      ],
      "metadata": {
        "id": "lmxmF6rXpx09"
      }
    },
    {
      "cell_type": "code",
      "execution_count": 9,
      "metadata": {
        "id": "GsQcJz30OPaB"
      },
      "outputs": [],
      "source": [
        "# random.randint(1, 200)"
      ]
    },
    {
      "cell_type": "markdown",
      "source": [
        "Сгенерирован номер с заданием 99"
      ],
      "metadata": {
        "id": "d2WFc0YWpnDT"
      }
    },
    {
      "cell_type": "markdown",
      "source": [
        "### Создание каталога data для хранения данных"
      ],
      "metadata": {
        "id": "K6R5CQOwOvL0"
      }
    },
    {
      "cell_type": "code",
      "source": [
        "if not os.path.exists('data'):\n",
        "  os.makedirs('data')"
      ],
      "metadata": {
        "id": "nO80cT1kOzDV"
      },
      "execution_count": 10,
      "outputs": []
    },
    {
      "cell_type": "markdown",
      "source": [
        "### Создание экземпляра SparkSession"
      ],
      "metadata": {
        "id": "29kEYlPZp64Z"
      }
    },
    {
      "cell_type": "code",
      "source": [
        "spark = SparkSession.builder.appName('Homework_2_lab2').getOrCreate()"
      ],
      "metadata": {
        "id": "IGshgYlPsS5r"
      },
      "execution_count": 11,
      "outputs": []
    },
    {
      "cell_type": "markdown",
      "source": [
        "### Задание 1. Считать файл 1.csv и создать Spark DataFrame"
      ],
      "metadata": {
        "id": "o-SD5MFn07MT"
      }
    },
    {
      "cell_type": "code",
      "source": [
        "df = spark.read.format(\"csv\").option(\"header\", \"true\").load(\"data/2.csv\")\n",
        "df.show(5)"
      ],
      "metadata": {
        "colab": {
          "base_uri": "https://localhost:8080/"
        },
        "id": "2E6p3JQj1ypM",
        "outputId": "7c2e551d-c44a-4a4c-9f3b-f62227570fc9"
      },
      "execution_count": 12,
      "outputs": [
        {
          "output_type": "stream",
          "name": "stdout",
          "text": [
            "+-------+-----------+-------------------+-------+-------+-------+-------+\n",
            "|item_id|description|           category|  price| weight| length|  width|\n",
            "+-------+-----------+-------------------+-------+-------+-------+-------+\n",
            "|      1|     Item 1|    Bath and Beauty|3045.71|1086.34|1324.01|  11.18|\n",
            "|      2|     Item 2|  Pantry and Snacks|1500.43|  33.01|1265.36| 697.48|\n",
            "|      3|     Item 3|Musical Instruments| 125.81|5849.18|2265.22|2856.18|\n",
            "|      4|     Item 4|      Baby Products|1065.07|2742.43|1283.44|3842.33|\n",
            "|      5|     Item 5|      Baby Products|3343.72|3108.81|1525.39|1728.18|\n",
            "+-------+-----------+-------------------+-------+-------+-------+-------+\n",
            "only showing top 5 rows\n",
            "\n"
          ]
        }
      ]
    },
    {
      "cell_type": "markdown",
      "source": [
        "### Задание 2. Вывести первые 8 строк"
      ],
      "metadata": {
        "id": "n5iczfPJO1gs"
      }
    },
    {
      "cell_type": "code",
      "source": [
        "df.show(8)"
      ],
      "metadata": {
        "colab": {
          "base_uri": "https://localhost:8080/"
        },
        "id": "e89QctNAO5fP",
        "outputId": "99920e77-bb68-428c-b82f-62fce89f1d05"
      },
      "execution_count": 13,
      "outputs": [
        {
          "output_type": "stream",
          "name": "stdout",
          "text": [
            "+-------+-----------+-------------------+-------+-------+-------+-------+\n",
            "|item_id|description|           category|  price| weight| length|  width|\n",
            "+-------+-----------+-------------------+-------+-------+-------+-------+\n",
            "|      1|     Item 1|    Bath and Beauty|3045.71|1086.34|1324.01|  11.18|\n",
            "|      2|     Item 2|  Pantry and Snacks|1500.43|  33.01|1265.36| 697.48|\n",
            "|      3|     Item 3|Musical Instruments| 125.81|5849.18|2265.22|2856.18|\n",
            "|      4|     Item 4|      Baby Products|1065.07|2742.43|1283.44|3842.33|\n",
            "|      5|     Item 5|      Baby Products|3343.72|3108.81|1525.39|1728.18|\n",
            "|      6|     Item 6|         Stationery|2889.09| 618.78|4413.94|1073.71|\n",
            "|      7|     Item 7|        Accessories|2401.08|2814.12|6174.96|2981.73|\n",
            "|      8|     Item 8|      Baby Products|2440.76| 4332.7|3257.63|5492.77|\n",
            "+-------+-----------+-------------------+-------+-------+-------+-------+\n",
            "only showing top 8 rows\n",
            "\n"
          ]
        }
      ]
    },
    {
      "cell_type": "code",
      "source": [
        "df.head(8)"
      ],
      "metadata": {
        "colab": {
          "base_uri": "https://localhost:8080/"
        },
        "id": "HKINnlw0O9kR",
        "outputId": "1046d60d-b41d-41dd-86d9-2129b670c98f"
      },
      "execution_count": 14,
      "outputs": [
        {
          "output_type": "execute_result",
          "data": {
            "text/plain": [
              "[Row(item_id='1', description='Item 1', category='Bath and Beauty', price='3045.71', weight='1086.34', length='1324.01', width='11.18'),\n",
              " Row(item_id='2', description='Item 2', category='Pantry and Snacks', price='1500.43', weight='33.01', length='1265.36', width='697.48'),\n",
              " Row(item_id='3', description='Item 3', category='Musical Instruments', price='125.81', weight='5849.18', length='2265.22', width='2856.18'),\n",
              " Row(item_id='4', description='Item 4', category='Baby Products', price='1065.07', weight='2742.43', length='1283.44', width='3842.33'),\n",
              " Row(item_id='5', description='Item 5', category='Baby Products', price='3343.72', weight='3108.81', length='1525.39', width='1728.18'),\n",
              " Row(item_id='6', description='Item 6', category='Stationery', price='2889.09', weight='618.78', length='4413.94', width='1073.71'),\n",
              " Row(item_id='7', description='Item 7', category='Accessories', price='2401.08', weight='2814.12', length='6174.96', width='2981.73'),\n",
              " Row(item_id='8', description='Item 8', category='Baby Products', price='2440.76', weight='4332.7', length='3257.63', width='5492.77')]"
            ]
          },
          "metadata": {},
          "execution_count": 14
        }
      ]
    },
    {
      "cell_type": "markdown",
      "source": [
        "### Задание 3. Отфильтровать данные, где ```price < 4779.0```"
      ],
      "metadata": {
        "id": "nO9is4gLPAcS"
      }
    },
    {
      "cell_type": "code",
      "source": [
        "df_filtered = df.filter(df.price < 4779.0)\n",
        "df_filtered.show(5)"
      ],
      "metadata": {
        "colab": {
          "base_uri": "https://localhost:8080/"
        },
        "id": "FTvQBqvZRLAB",
        "outputId": "b26e1f98-2cbb-4dd0-a4e9-8656240d5322"
      },
      "execution_count": 15,
      "outputs": [
        {
          "output_type": "stream",
          "name": "stdout",
          "text": [
            "+-------+-----------+-------------------+-------+-------+-------+-------+\n",
            "|item_id|description|           category|  price| weight| length|  width|\n",
            "+-------+-----------+-------------------+-------+-------+-------+-------+\n",
            "|      1|     Item 1|    Bath and Beauty|3045.71|1086.34|1324.01|  11.18|\n",
            "|      2|     Item 2|  Pantry and Snacks|1500.43|  33.01|1265.36| 697.48|\n",
            "|      3|     Item 3|Musical Instruments| 125.81|5849.18|2265.22|2856.18|\n",
            "|      4|     Item 4|      Baby Products|1065.07|2742.43|1283.44|3842.33|\n",
            "|      5|     Item 5|      Baby Products|3343.72|3108.81|1525.39|1728.18|\n",
            "+-------+-----------+-------------------+-------+-------+-------+-------+\n",
            "only showing top 5 rows\n",
            "\n"
          ]
        }
      ]
    },
    {
      "cell_type": "markdown",
      "source": [
        "### Задание 4. Подсчитать, сколько строк было отфильтровано на предыдущем шаге 3"
      ],
      "metadata": {
        "id": "nREtYT2RQO4X"
      }
    },
    {
      "cell_type": "code",
      "source": [
        "df.count() - df_filtered.count()"
      ],
      "metadata": {
        "colab": {
          "base_uri": "https://localhost:8080/"
        },
        "id": "qrl3KvGnRXiP",
        "outputId": "9ff034ad-233f-4fb9-841b-cc57d3b24cf7"
      },
      "execution_count": 16,
      "outputs": [
        {
          "output_type": "execute_result",
          "data": {
            "text/plain": [
              "120"
            ]
          },
          "metadata": {},
          "execution_count": 16
        }
      ]
    },
    {
      "cell_type": "markdown",
      "source": [
        "### Задание 5. Выполнить группировку по полю category, для каждой категории рассчитав ```количество элементов в группе, min price, avg weight```"
      ],
      "metadata": {
        "id": "viq7s1ioQZEz"
      }
    },
    {
      "cell_type": "code",
      "source": [
        "df_grouped = df_filtered.groupBy('category') \\\n",
        "   .agg({ 'item_id': 'count', 'price': 'min', 'weight': 'avg' })\n",
        "\n",
        "df_grouped.show()"
      ],
      "metadata": {
        "colab": {
          "base_uri": "https://localhost:8080/"
        },
        "id": "crPuhHSlVcNq",
        "outputId": "8cae9b73-f5aa-454d-c740-857ec5447e06"
      },
      "execution_count": 17,
      "outputs": [
        {
          "output_type": "stream",
          "name": "stdout",
          "text": [
            "+-------------------+--------------+----------+------------------+\n",
            "|           category|count(item_id)|min(price)|       avg(weight)|\n",
            "+-------------------+--------------+----------+------------------+\n",
            "|        Accessories|            26|    101.46|2112.1780769230763|\n",
            "|       Art Supplies|            22|    116.13| 2517.932272727272|\n",
            "|      Baby Products|            29|   1013.13|           3045.91|\n",
            "|    Bath and Beauty|            28|   1195.44|2338.1842857142856|\n",
            "| Bedding and Linens|            25|   1218.29|         3319.9236|\n",
            "|              Books|            28|   1002.06| 2800.758928571428|\n",
            "|           Clothing|            25|   1144.66|          2933.078|\n",
            "|        Electronics|            23|   1265.69| 1867.644782608696|\n",
            "|          Furniture|            17|   1064.43|1704.3170588235296|\n",
            "|    Gaming Consoles|            17|   1034.54|1461.5329411764706|\n",
            "|         Home Goods|            23|   1012.46|2314.7847826086954|\n",
            "| Kitchen Appliances|            28|   1021.84|          2879.405|\n",
            "|Musical Instruments|            27|    108.07|3384.7081481481473|\n",
            "|  Pantry and Snacks|            30|   1140.26| 2728.289666666667|\n",
            "|       Pet Supplies|            27|    138.19|2877.2744444444447|\n",
            "|              Shoes|            35|   1031.28| 2224.669714285714|\n",
            "|   Sports Equipment|            37|   1062.72|2326.5981081081077|\n",
            "|         Stationery|            24|    1162.9|2516.5499999999997|\n",
            "|               Toys|            32|     11.61|2907.9934375000003|\n",
            "+-------------------+--------------+----------+------------------+\n",
            "\n"
          ]
        }
      ]
    },
    {
      "cell_type": "markdown",
      "source": [
        "### Задание 6. Записать полученный набор данных в файл r_2.json"
      ],
      "metadata": {
        "id": "Zo_-K_dDNl2c"
      }
    },
    {
      "cell_type": "code",
      "source": [
        "df_grouped.write.json('data/r_2.json', mode='overwrite')"
      ],
      "metadata": {
        "id": "pDfZE6uIVcj-"
      },
      "execution_count": 18,
      "outputs": []
    }
  ]
}