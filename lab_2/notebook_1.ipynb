{
  "nbformat": 4,
  "nbformat_minor": 0,
  "metadata": {
    "colab": {
      "provenance": []
    },
    "kernelspec": {
      "name": "python3",
      "display_name": "Python 3"
    },
    "language_info": {
      "name": "python"
    }
  },
  "cells": [
    {
      "cell_type": "markdown",
      "source": [
        "### Установка пакетов"
      ],
      "metadata": {
        "id": "xydrmfnDr7KX"
      }
    },
    {
      "cell_type": "code",
      "source": [
        "!pip install pyspark"
      ],
      "metadata": {
        "colab": {
          "base_uri": "https://localhost:8080/"
        },
        "id": "ezujwGoDr-on",
        "outputId": "dcea28da-a3c3-4622-d148-a6972f911dcc"
      },
      "execution_count": 247,
      "outputs": [
        {
          "output_type": "stream",
          "name": "stdout",
          "text": [
            "Requirement already satisfied: pyspark in /usr/local/lib/python3.10/dist-packages (3.5.3)\n",
            "Requirement already satisfied: py4j==0.10.9.7 in /usr/local/lib/python3.10/dist-packages (from pyspark) (0.10.9.7)\n"
          ]
        }
      ]
    },
    {
      "cell_type": "markdown",
      "source": [
        "### Импорт библиотек"
      ],
      "metadata": {
        "id": "k3CMXpjpptKn"
      }
    },
    {
      "cell_type": "code",
      "source": [
        "import random\n",
        "from pyspark.sql import SparkSession\n",
        "from pyspark.sql.functions import col\n",
        "import os"
      ],
      "metadata": {
        "id": "0bxIuW3BnoW3"
      },
      "execution_count": 248,
      "outputs": []
    },
    {
      "cell_type": "markdown",
      "source": [
        "### Генерация номера задания"
      ],
      "metadata": {
        "id": "lmxmF6rXpx09"
      }
    },
    {
      "cell_type": "code",
      "execution_count": 249,
      "metadata": {
        "id": "GsQcJz30OPaB"
      },
      "outputs": [],
      "source": [
        "# random.randint(1, 200)"
      ]
    },
    {
      "cell_type": "markdown",
      "source": [
        "Сгенерирован номер с заданием 99"
      ],
      "metadata": {
        "id": "d2WFc0YWpnDT"
      }
    },
    {
      "cell_type": "markdown",
      "source": [
        "### Создание экземпляра SparkSession"
      ],
      "metadata": {
        "id": "29kEYlPZp64Z"
      }
    },
    {
      "cell_type": "code",
      "source": [
        "spark = SparkSession.builder.appName('Homework_2_lab1').getOrCreate()"
      ],
      "metadata": {
        "id": "IGshgYlPsS5r"
      },
      "execution_count": 250,
      "outputs": []
    },
    {
      "cell_type": "markdown",
      "source": [
        "### Задание 1. Считать файл 1.csv и создать Spark DataFrame"
      ],
      "metadata": {
        "id": "o-SD5MFn07MT"
      }
    },
    {
      "cell_type": "code",
      "source": [
        "df = spark.read.format(\"csv\").option(\"header\", \"true\").load(\"data/1.csv\")\n",
        "df.show(5)"
      ],
      "metadata": {
        "colab": {
          "base_uri": "https://localhost:8080/"
        },
        "id": "2E6p3JQj1ypM",
        "outputId": "de3c94a0-9ad9-43a2-b86a-5a04e7799bbb"
      },
      "execution_count": 251,
      "outputs": [
        {
          "output_type": "stream",
          "name": "stdout",
          "text": [
            "+----------+--------------------+-----+--------+--------+--------------------+---------------+---------------+------+--------------------+\n",
            "|product_id|                name|price|quantity|category|         description|production_date|expiration_date|rating|              status|\n",
            "+----------+--------------------+-----+--------+--------+--------------------+---------------+---------------+------+--------------------+\n",
            "|         1|             Эндивий| 4711|     167|   Овощи|Отличается низкой...|     1990-07-06|     2011-01-02|  1.09|            Returned|\n",
            "|         2|Каша из дробленно...| 1712|     214| Бакалея|Отличается высоки...|     2003-01-02|     2013-01-02|  0.04|Available for Pickup|\n",
            "|         3|                 Ямс|  844|      99|   Овощи|Помогает поддержи...|     2006-03-02|     2020-04-05|  2.08|            Refunded|\n",
            "|         4|         Балаковская| 2329|     142| Напитки|Помогает поддержи...|     2022-05-02|     2028-02-09|  2.06|    Awaiting Payment|\n",
            "|         5|              Конина| 5834|     271|    Мясо|Отличается высоки...|     1999-04-08|     2004-03-15|  1.19|            In Stock|\n",
            "+----------+--------------------+-----+--------+--------+--------------------+---------------+---------------+------+--------------------+\n",
            "only showing top 5 rows\n",
            "\n"
          ]
        }
      ]
    },
    {
      "cell_type": "markdown",
      "source": [
        "### Задание 2. Вывести последние 10 строк"
      ],
      "metadata": {
        "id": "qxkJnJa11Iq2"
      }
    },
    {
      "cell_type": "code",
      "source": [
        "df.tail(10)"
      ],
      "metadata": {
        "colab": {
          "base_uri": "https://localhost:8080/"
        },
        "id": "DlOL0xb225uG",
        "outputId": "896efb25-7ace-40f7-ceb4-a096cc929312"
      },
      "execution_count": 252,
      "outputs": [
        {
          "output_type": "execute_result",
          "data": {
            "text/plain": [
              "[Row(product_id='493', name='Папайя', price='9623', quantity='618', category='Фрукты', description='Помогает поддерживать нормальный уровень апигенина, флавоноида, полезного для здоровья мозга и иммунной системы.', production_date='2010-02-12', expiration_date='2014-03-07', rating='3.08', status='Sold'),\n",
              " Row(product_id='494', name='Айран', price='1422', quantity='875', category='Молочные продукты', description='Помогает поддерживать нормальный уровень глюкагона, гормона, регулирующего уровень глюкозы в крови.', production_date='2015-03-02', expiration_date='2026-05-06', rating='0.49', status='Out of Stock'),\n",
              " Row(product_id='495', name='Пакеты для мастер-класса', price='7074', quantity='672', category='Товары для дома', description='Помогает поддерживать нормальный уровень зеаксантина, каротиноида, важного для здоровья глаз.', production_date='1997-10-02', expiration_date='2010-01-02', rating='2.71', status='Cancelled'),\n",
              " Row(product_id='496', name='Гранат', price='5762', quantity='306', category='Фрукты', description='Подходит для людей с чувствительным пищеварением.', production_date='1994-04-10', expiration_date='2015-05-12', rating='1.15', status='Pending'),\n",
              " Row(product_id='497', name='Лопатка', price='7990', quantity='568', category='Мясо', description='Отличается высоким содержанием оротовой кислоты, необходимой для синтеза ДНК и РНК.', production_date='2022-08-09', expiration_date='2027-02-02', rating='3.57', status='Awaiting Review'),\n",
              " Row(product_id='498', name='Сыворотка молочная', price='7787', quantity='975', category='Бакалея', description='Способствует нормализации обмена веществ в организме.', production_date='2015-03-10', expiration_date='2021-01-10', rating='2.7', status='Awaiting Payment'),\n",
              " Row(product_id='499', name='Молоко', price='2171', quantity='189', category='Молочные продукты', description='Является неотъемлемой частью рациона многих народов мира.', production_date='2016-04-23', expiration_date='2024-02-12', rating='1.67', status='Temporarily Unavailable'),\n",
              " Row(product_id='500', name='Пакеты для конференции', price='5668', quantity='416', category='Товары для дома', description='Помогает поддерживать нормальный уровень ацетилхолина, нейромедиатора, ответственного за память и обучение.', production_date='2006-01-02', expiration_date='2011-01-20', rating='4.59', status='Backorder'),\n",
              " Row(product_id='501', name='Кардамон молотый', price='4715', quantity='715', category='Бакалея', description='Отличается высоким содержанием нарингина, флавоноида, полезного для снижения уровня холестерина и улучшения пищеварения.', production_date='2004-02-14', expiration_date='2014-11-01', rating='0.2', status='New'),\n",
              " Row(product_id='502', name='Челябинская', price='122', quantity='497', category='Напитки', description='Помогает поддерживать нормальный уровень холестерина в крови.', production_date='2004-02-01', expiration_date='2021-05-03', rating='1.13', status='Refunded')]"
            ]
          },
          "metadata": {},
          "execution_count": 252
        }
      ]
    },
    {
      "cell_type": "markdown",
      "source": [
        "### Задание 3. Вывести количество колонок"
      ],
      "metadata": {
        "id": "ddFcprwB23qO"
      }
    },
    {
      "cell_type": "code",
      "source": [
        "len(df.dtypes)"
      ],
      "metadata": {
        "colab": {
          "base_uri": "https://localhost:8080/"
        },
        "id": "ELQo9Dkj4ucL",
        "outputId": "54f21806-d56d-48fe-f158-33e083b6aa89"
      },
      "execution_count": 253,
      "outputs": [
        {
          "output_type": "execute_result",
          "data": {
            "text/plain": [
              "10"
            ]
          },
          "metadata": {},
          "execution_count": 253
        }
      ]
    },
    {
      "cell_type": "markdown",
      "source": [
        "### Задание 4. Вывести статистические характеристики для всех колонок"
      ],
      "metadata": {
        "id": "Q-t169Cx4tpE"
      }
    },
    {
      "cell_type": "code",
      "source": [
        "df.describe().show()"
      ],
      "metadata": {
        "colab": {
          "base_uri": "https://localhost:8080/"
        },
        "id": "B_WrI4a35WLz",
        "outputId": "c3c42980-a395-4c9f-d70d-011a0eda0d78"
      },
      "execution_count": 254,
      "outputs": [
        {
          "output_type": "stream",
          "name": "stdout",
          "text": [
            "+-------+------------------+---------------+-----------------+-----------------+--------+--------------------+---------------+---------------+------------------+--------------------+\n",
            "|summary|        product_id|           name|            price|         quantity|category|         description|production_date|expiration_date|            rating|              status|\n",
            "+-------+------------------+---------------+-----------------+-----------------+--------+--------------------+---------------+---------------+------------------+--------------------+\n",
            "|  count|               502|            502|              502|              502|     502|                 502|            502|            502|               502|                 502|\n",
            "|   mean|             251.5|           NULL|4871.599601593625|506.3027888446215|    NULL|                NULL|           NULL|           NULL| 2.459402390438248|                NULL|\n",
            "| stddev|145.05918332414072|           NULL|2864.218713604308|292.5283410058042|    NULL|                NULL|           NULL|           NULL|1.4334440058817324|                NULL|\n",
            "|    min|                 1|Adrenaline Rush|             1010|               10| Бакалея|Богат кальцием, н...|     1990-01-12|     1993-01-26|              0.01|Available for Pickup|\n",
            "|    max|                99|            Ямс|             9980|              995|  Фрукты|Является неотъемл...|     2022-10-06|     2030-11-01|              5.01|Temporarily Unava...|\n",
            "+-------+------------------+---------------+-----------------+-----------------+--------+--------------------+---------------+---------------+------------------+--------------------+\n",
            "\n"
          ]
        }
      ]
    },
    {
      "cell_type": "markdown",
      "source": [
        "### Задание 5. Удалить указанную колонку ```expiration_date```"
      ],
      "metadata": {
        "id": "w7auQZMC5VMd"
      }
    },
    {
      "cell_type": "code",
      "source": [
        "df_dropped = df.drop('expiration_date')\n",
        "df_dropped.show(5)"
      ],
      "metadata": {
        "colab": {
          "base_uri": "https://localhost:8080/"
        },
        "id": "QmWqJpaI6O08",
        "outputId": "db8ee62c-a155-436a-f705-520993f25565"
      },
      "execution_count": 255,
      "outputs": [
        {
          "output_type": "stream",
          "name": "stdout",
          "text": [
            "+----------+--------------------+-----+--------+--------+--------------------+---------------+------+--------------------+\n",
            "|product_id|                name|price|quantity|category|         description|production_date|rating|              status|\n",
            "+----------+--------------------+-----+--------+--------+--------------------+---------------+------+--------------------+\n",
            "|         1|             Эндивий| 4711|     167|   Овощи|Отличается низкой...|     1990-07-06|  1.09|            Returned|\n",
            "|         2|Каша из дробленно...| 1712|     214| Бакалея|Отличается высоки...|     2003-01-02|  0.04|Available for Pickup|\n",
            "|         3|                 Ямс|  844|      99|   Овощи|Помогает поддержи...|     2006-03-02|  2.08|            Refunded|\n",
            "|         4|         Балаковская| 2329|     142| Напитки|Помогает поддержи...|     2022-05-02|  2.06|    Awaiting Payment|\n",
            "|         5|              Конина| 5834|     271|    Мясо|Отличается высоки...|     1999-04-08|  1.19|            In Stock|\n",
            "+----------+--------------------+-----+--------+--------+--------------------+---------------+------+--------------------+\n",
            "only showing top 5 rows\n",
            "\n"
          ]
        }
      ]
    },
    {
      "cell_type": "markdown",
      "source": [
        "### Задание 6. Создайть новую колонку ```цена в $``` ```(price * 92.26)```"
      ],
      "metadata": {
        "id": "Gq23SJJu5kNy"
      }
    },
    {
      "cell_type": "code",
      "source": [
        "df_added = df_dropped.withColumn('price_in_$', col('price') * 92.26)\n",
        "df_added.show(5)"
      ],
      "metadata": {
        "colab": {
          "base_uri": "https://localhost:8080/"
        },
        "id": "qKXUuyh66irU",
        "outputId": "329cfbc6-5f8d-4131-846e-df666ed365c9"
      },
      "execution_count": 256,
      "outputs": [
        {
          "output_type": "stream",
          "name": "stdout",
          "text": [
            "+----------+--------------------+-----+--------+--------+--------------------+---------------+------+--------------------+------------------+\n",
            "|product_id|                name|price|quantity|category|         description|production_date|rating|              status|        price_in_$|\n",
            "+----------+--------------------+-----+--------+--------+--------------------+---------------+------+--------------------+------------------+\n",
            "|         1|             Эндивий| 4711|     167|   Овощи|Отличается низкой...|     1990-07-06|  1.09|            Returned|434636.86000000004|\n",
            "|         2|Каша из дробленно...| 1712|     214| Бакалея|Отличается высоки...|     2003-01-02|  0.04|Available for Pickup|         157949.12|\n",
            "|         3|                 Ямс|  844|      99|   Овощи|Помогает поддержи...|     2006-03-02|  2.08|            Refunded|          77867.44|\n",
            "|         4|         Балаковская| 2329|     142| Напитки|Помогает поддержи...|     2022-05-02|  2.06|    Awaiting Payment|         214873.54|\n",
            "|         5|              Конина| 5834|     271|    Мясо|Отличается высоки...|     1999-04-08|  1.19|            In Stock| 538244.8400000001|\n",
            "+----------+--------------------+-----+--------+--------+--------------------+---------------+------+--------------------+------------------+\n",
            "only showing top 5 rows\n",
            "\n"
          ]
        }
      ]
    },
    {
      "cell_type": "markdown",
      "source": [
        "### Задание 7. Запсать полученный набор данных в файл r_1.json"
      ],
      "metadata": {
        "id": "wMETxsc95lnR"
      }
    },
    {
      "cell_type": "code",
      "source": [
        "df_added.write.json('data/r_1.json', mode='overwrite')"
      ],
      "metadata": {
        "id": "L1SE51OV8O1y"
      },
      "execution_count": 257,
      "outputs": []
    }
  ]
}