{
  "nbformat": 4,
  "nbformat_minor": 0,
  "metadata": {
    "colab": {
      "provenance": []
    },
    "kernelspec": {
      "name": "python3",
      "display_name": "Python 3"
    },
    "language_info": {
      "name": "python"
    }
  },
  "cells": [
    {
      "cell_type": "markdown",
      "source": [
        "### Установка пакетов"
      ],
      "metadata": {
        "id": "xydrmfnDr7KX"
      }
    },
    {
      "cell_type": "code",
      "source": [
        "!pip install pyspark"
      ],
      "metadata": {
        "colab": {
          "base_uri": "https://localhost:8080/"
        },
        "id": "ezujwGoDr-on",
        "outputId": "fc92cbc0-f654-4b9d-e441-810b79011e98"
      },
      "execution_count": 5,
      "outputs": [
        {
          "output_type": "stream",
          "name": "stdout",
          "text": [
            "Requirement already satisfied: pyspark in /usr/local/lib/python3.10/dist-packages (3.5.3)\n",
            "Requirement already satisfied: py4j==0.10.9.7 in /usr/local/lib/python3.10/dist-packages (from pyspark) (0.10.9.7)\n"
          ]
        }
      ]
    },
    {
      "cell_type": "markdown",
      "source": [
        "### Импорт библиотек"
      ],
      "metadata": {
        "id": "k3CMXpjpptKn"
      }
    },
    {
      "cell_type": "code",
      "source": [
        "import pandas as pd\n",
        "import random\n",
        "from pyspark.sql import SparkSession\n",
        "from pyspark.sql.functions import col\n",
        "import os\n",
        "import urllib.request"
      ],
      "metadata": {
        "id": "0bxIuW3BnoW3"
      },
      "execution_count": 6,
      "outputs": []
    },
    {
      "cell_type": "markdown",
      "source": [
        "### Генерация номера задания"
      ],
      "metadata": {
        "id": "lmxmF6rXpx09"
      }
    },
    {
      "cell_type": "code",
      "execution_count": 7,
      "metadata": {
        "id": "GsQcJz30OPaB"
      },
      "outputs": [],
      "source": [
        "# random.randint(1, 200)"
      ]
    },
    {
      "cell_type": "markdown",
      "source": [
        "Сгенерирован номер с заданием 99"
      ],
      "metadata": {
        "id": "d2WFc0YWpnDT"
      }
    },
    {
      "cell_type": "markdown",
      "source": [
        "### Создание каталога data для хранения данных и загрузка данных"
      ],
      "metadata": {
        "id": "7K0wrzBFOh6b"
      }
    },
    {
      "cell_type": "code",
      "source": [
        "if not os.path.exists('data'):\n",
        "  os.makedirs('data')\n",
        "\n",
        "urllib.request.urlretrieve('https://raw.githubusercontent.com/Losyash/sepbd_i_hw/refs/heads/master/lab_2/data/1.csv', 'data/1.csv')"
      ],
      "metadata": {
        "id": "k6mJK8UWOgEZ",
        "colab": {
          "base_uri": "https://localhost:8080/"
        },
        "outputId": "00d8548b-930d-44d9-9e32-f5b23f739d1e"
      },
      "execution_count": 8,
      "outputs": [
        {
          "output_type": "execute_result",
          "data": {
            "text/plain": [
              "('data/1.csv', <http.client.HTTPMessage at 0x7e163c4d9a20>)"
            ]
          },
          "metadata": {},
          "execution_count": 8
        }
      ]
    },
    {
      "cell_type": "markdown",
      "source": [
        "### Создание экземпляра SparkSession"
      ],
      "metadata": {
        "id": "29kEYlPZp64Z"
      }
    },
    {
      "cell_type": "code",
      "source": [
        "spark = SparkSession.builder.appName('Homework_2_lab1').getOrCreate()"
      ],
      "metadata": {
        "id": "IGshgYlPsS5r"
      },
      "execution_count": 9,
      "outputs": []
    },
    {
      "cell_type": "markdown",
      "source": [
        "### Задание 1. Считать файл 1.csv и создать Spark DataFrame"
      ],
      "metadata": {
        "id": "o-SD5MFn07MT"
      }
    },
    {
      "cell_type": "code",
      "source": [
        "df = spark.read.format(\"csv\").option(\"header\", \"true\").load(\"data/1.csv\")\n",
        "df.show(5)"
      ],
      "metadata": {
        "colab": {
          "base_uri": "https://localhost:8080/"
        },
        "id": "2E6p3JQj1ypM",
        "outputId": "06527317-4e57-41b6-c56c-e397afa89462"
      },
      "execution_count": 10,
      "outputs": [
        {
          "output_type": "stream",
          "name": "stdout",
          "text": [
            "+----------+--------------------+-----+--------+-----------------+--------------------+---------------+---------------+------+--------------------+\n",
            "|product_id|                name|price|quantity|         category|         description|production_date|expiration_date|rating|              status|\n",
            "+----------+--------------------+-----+--------+-----------------+--------------------+---------------+---------------+------+--------------------+\n",
            "|         1|Каша из дробленой...| 9219|     759|          Бакалея|Помогает поддержи...|     2021-03-03|     2028-03-15|  4.55|            Shipping|\n",
            "|         2|              Йогурт| 1295|     489|Молочные продукты|Легко усваивается...|     2015-04-17|     2015-08-25|  1.69|     Awaiting Review|\n",
            "|         3|              Огурец| 3645|     604|            Овощи|Является неотъемл...|     2015-05-08|     2017-01-05|  1.68|             Pending|\n",
            "|         4|                Окра| 2416|     803|            Овощи|Отличается высоки...|     2008-01-02|     2015-05-02|  3.57|Available for Pickup|\n",
            "|         5|Каша из дробленно...| 2140|     674|          Бакалея|Помогает поддержи...|     1993-03-03|     2012-04-09|  2.87|     Awaiting Review|\n",
            "+----------+--------------------+-----+--------+-----------------+--------------------+---------------+---------------+------+--------------------+\n",
            "only showing top 5 rows\n",
            "\n"
          ]
        }
      ]
    },
    {
      "cell_type": "markdown",
      "source": [
        "### Задание 2. Вывести последние 10 строк"
      ],
      "metadata": {
        "id": "qxkJnJa11Iq2"
      }
    },
    {
      "cell_type": "code",
      "source": [
        "df.tail(10)"
      ],
      "metadata": {
        "colab": {
          "base_uri": "https://localhost:8080/"
        },
        "id": "DlOL0xb225uG",
        "outputId": "7aec3dd6-60a7-4725-8095-de04737a2394"
      },
      "execution_count": 11,
      "outputs": [
        {
          "output_type": "execute_result",
          "data": {
            "text/plain": [
              "[Row(product_id='550', name='Лук-порей', price='3472', quantity='16', category='Овощи', description='Отличается высоким содержанием оротовой кислоты, необходимой для синтеза ДНК и РНК.', production_date='2018-07-04', expiration_date='2019-06-04', rating='2.03', status='Out of Stock'),\n",
              " Row(product_id='551', name='Экзотические виды мяса (например, страус, кенгуру)', price='1960', quantity='476', category='Мясо', description='Помогает предотвратить развитие остеопороза благодаря высокому содержанию кальция.', production_date='2006-01-16', expiration_date='2020-05-06', rating='1.87', status='On Backorder'),\n",
              " Row(product_id='552', name='Цукини', price='3340', quantity='528', category='Овощи', description='Отличается высоким содержанием фосфора, необходимого для здоровья зубов и костей.', production_date='2014-03-05', expiration_date='2022-01-03', rating='1.89', status='Shipping'),\n",
              " Row(product_id='553', name='Турнепс', price='371', quantity='362', category='Овощи', description='Помогает поддерживать нормальный уровень нарингина, флавоноида, полезного для снижения уровня холестерина и улучшения пищеварения.', production_date='2006-05-18', expiration_date='2020-05-10', rating='3.77', status='On Backorder'),\n",
              " Row(product_id='554', name='Подсолнечник семена', price='238', quantity='469', category='Бакалея', description='Помогает улучшить состояние волос, ногтей и кожи.', production_date='2022-02-01', expiration_date='2027-07-01', rating='0.63', status='Delivered'),\n",
              " Row(product_id='555', name='Айва', price='3388', quantity='200', category='Фрукты', description='Отличается высоким содержанием кверцетина, флавоноида, обладающего антиоксидантными и противовоспалительными свойствами.', production_date='2017-02-23', expiration_date='2028-11-02', rating='4.28', status='Awaiting Payment'),\n",
              " Row(product_id='556', name='Чабрец сушеный', price='9842', quantity='332', category='Бакалея', description='Обладает приятными органолептическими свойствами, привлекающими внимание покупателей.', production_date='2022-01-01', expiration_date='2027-05-11', rating='2.76', status='Returned'),\n",
              " Row(product_id='557', name='Малина', price='3173', quantity='207', category='Фрукты', description='Отличается высоким содержанием L-карнозина, аминокислоты, полезной для мышц и мозга.', production_date='2003-01-05', expiration_date='2007-01-15', rating='3.63', status='Sold'),\n",
              " Row(product_id='558', name='Сметана', price='3376', quantity='271', category='Молочные продукты', description='Помогает поддерживать здоровье глаз и зрение благодаря содержанию витамина A.', production_date='2009-03-06', expiration_date='2027-03-14', rating='0.64', status='New'),\n",
              " Row(product_id='559', name='Ветчина', price='9050', quantity='362', category='Мясо', description='Отличается высоким содержанием оротовой кислоты, необходимой для синтеза ДНК и РНК.', production_date='2003-04-01', expiration_date='2017-03-01', rating='1.76', status='Pending')]"
            ]
          },
          "metadata": {},
          "execution_count": 11
        }
      ]
    },
    {
      "cell_type": "markdown",
      "source": [
        "### Задание 3. Вывести количество колонок"
      ],
      "metadata": {
        "id": "ddFcprwB23qO"
      }
    },
    {
      "cell_type": "code",
      "source": [
        "len(df.dtypes)"
      ],
      "metadata": {
        "colab": {
          "base_uri": "https://localhost:8080/"
        },
        "id": "ELQo9Dkj4ucL",
        "outputId": "e05d855f-6727-4103-8f8b-d20544dfe981"
      },
      "execution_count": 12,
      "outputs": [
        {
          "output_type": "execute_result",
          "data": {
            "text/plain": [
              "10"
            ]
          },
          "metadata": {},
          "execution_count": 12
        }
      ]
    },
    {
      "cell_type": "markdown",
      "source": [
        "### Задание 4. Вывести статистические характеристики для всех колонок"
      ],
      "metadata": {
        "id": "Q-t169Cx4tpE"
      }
    },
    {
      "cell_type": "code",
      "source": [
        "df.describe().show()"
      ],
      "metadata": {
        "colab": {
          "base_uri": "https://localhost:8080/"
        },
        "id": "B_WrI4a35WLz",
        "outputId": "12ecc732-8338-42ea-804e-81aae9291884"
      },
      "execution_count": 13,
      "outputs": [
        {
          "output_type": "stream",
          "name": "stdout",
          "text": [
            "+-------+------------------+--------------+-----------------+------------------+--------+--------------------+---------------+---------------+------------------+--------------------+\n",
            "|summary|        product_id|          name|            price|          quantity|category|         description|production_date|expiration_date|            rating|              status|\n",
            "+-------+------------------+--------------+-----------------+------------------+--------+--------------------+---------------+---------------+------------------+--------------------+\n",
            "|  count|               559|           559|              559|               559|     559|                 559|            559|            559|               559|                 559|\n",
            "|   mean|             280.0|          NULL|4933.475849731663|508.27549194991053|    NULL|                NULL|           NULL|           NULL| 2.431860465116282|                NULL|\n",
            "| stddev|161.51367331178704|          NULL|2839.402474947555| 294.6262913705051|    NULL|                NULL|           NULL|           NULL|1.4558887130041327|                NULL|\n",
            "|    min|                 1|Coca-Cola Zero|             1005|                 1| Бакалея|Богат кальцием, н...|     1990-01-02|     1991-07-02|              0.01|Available for Pickup|\n",
            "|    max|                99|           Ямс|             9972|               999|  Фрукты|Является неотъемл...|     2022-08-07|     2030-09-11|              5.01|Temporarily Unava...|\n",
            "+-------+------------------+--------------+-----------------+------------------+--------+--------------------+---------------+---------------+------------------+--------------------+\n",
            "\n"
          ]
        }
      ]
    },
    {
      "cell_type": "markdown",
      "source": [
        "### Задание 5. Удалить указанную колонку ```expiration_date```"
      ],
      "metadata": {
        "id": "w7auQZMC5VMd"
      }
    },
    {
      "cell_type": "code",
      "source": [
        "df_dropped = df.drop('expiration_date')\n",
        "df_dropped.show(5)"
      ],
      "metadata": {
        "colab": {
          "base_uri": "https://localhost:8080/"
        },
        "id": "QmWqJpaI6O08",
        "outputId": "0c1f6d03-be7e-447a-893d-78155dea1a2a"
      },
      "execution_count": 14,
      "outputs": [
        {
          "output_type": "stream",
          "name": "stdout",
          "text": [
            "+----------+--------------------+-----+--------+-----------------+--------------------+---------------+------+--------------------+\n",
            "|product_id|                name|price|quantity|         category|         description|production_date|rating|              status|\n",
            "+----------+--------------------+-----+--------+-----------------+--------------------+---------------+------+--------------------+\n",
            "|         1|Каша из дробленой...| 9219|     759|          Бакалея|Помогает поддержи...|     2021-03-03|  4.55|            Shipping|\n",
            "|         2|              Йогурт| 1295|     489|Молочные продукты|Легко усваивается...|     2015-04-17|  1.69|     Awaiting Review|\n",
            "|         3|              Огурец| 3645|     604|            Овощи|Является неотъемл...|     2015-05-08|  1.68|             Pending|\n",
            "|         4|                Окра| 2416|     803|            Овощи|Отличается высоки...|     2008-01-02|  3.57|Available for Pickup|\n",
            "|         5|Каша из дробленно...| 2140|     674|          Бакалея|Помогает поддержи...|     1993-03-03|  2.87|     Awaiting Review|\n",
            "+----------+--------------------+-----+--------+-----------------+--------------------+---------------+------+--------------------+\n",
            "only showing top 5 rows\n",
            "\n"
          ]
        }
      ]
    },
    {
      "cell_type": "markdown",
      "source": [
        "### Задание 6. Создайть новую колонку ```цена в $``` ```(price * 92.26)```"
      ],
      "metadata": {
        "id": "Gq23SJJu5kNy"
      }
    },
    {
      "cell_type": "code",
      "source": [
        "df_added = df_dropped.withColumn('price_in_$', col('price') * 92.26)\n",
        "df_added.show(5)"
      ],
      "metadata": {
        "colab": {
          "base_uri": "https://localhost:8080/"
        },
        "id": "qKXUuyh66irU",
        "outputId": "22b53073-4837-4eb4-bcfc-102a8230f15e"
      },
      "execution_count": 15,
      "outputs": [
        {
          "output_type": "stream",
          "name": "stdout",
          "text": [
            "+----------+--------------------+-----+--------+-----------------+--------------------+---------------+------+--------------------+------------------+\n",
            "|product_id|                name|price|quantity|         category|         description|production_date|rating|              status|        price_in_$|\n",
            "+----------+--------------------+-----+--------+-----------------+--------------------+---------------+------+--------------------+------------------+\n",
            "|         1|Каша из дробленой...| 9219|     759|          Бакалея|Помогает поддержи...|     2021-03-03|  4.55|            Shipping| 850544.9400000001|\n",
            "|         2|              Йогурт| 1295|     489|Молочные продукты|Легко усваивается...|     2015-04-17|  1.69|     Awaiting Review|119476.70000000001|\n",
            "|         3|              Огурец| 3645|     604|            Овощи|Является неотъемл...|     2015-05-08|  1.68|             Pending|          336287.7|\n",
            "|         4|                Окра| 2416|     803|            Овощи|Отличается высоки...|     2008-01-02|  3.57|Available for Pickup|         222900.16|\n",
            "|         5|Каша из дробленно...| 2140|     674|          Бакалея|Помогает поддержи...|     1993-03-03|  2.87|     Awaiting Review|197436.40000000002|\n",
            "+----------+--------------------+-----+--------+-----------------+--------------------+---------------+------+--------------------+------------------+\n",
            "only showing top 5 rows\n",
            "\n"
          ]
        }
      ]
    },
    {
      "cell_type": "markdown",
      "source": [
        "### Задание 7. Запсать полученный набор данных в файл r_1.json"
      ],
      "metadata": {
        "id": "wMETxsc95lnR"
      }
    },
    {
      "cell_type": "code",
      "source": [
        "df_added.write.json('data/r_1.json', mode='overwrite')"
      ],
      "metadata": {
        "id": "L1SE51OV8O1y"
      },
      "execution_count": 16,
      "outputs": []
    }
  ]
}