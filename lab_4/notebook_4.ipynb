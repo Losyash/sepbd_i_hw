{
  "nbformat": 4,
  "nbformat_minor": 0,
  "metadata": {
    "colab": {
      "provenance": []
    },
    "kernelspec": {
      "name": "python3",
      "display_name": "Python 3"
    },
    "language_info": {
      "name": "python"
    }
  },
  "cells": [
    {
      "cell_type": "markdown",
      "metadata": {
        "id": "xydrmfnDr7KX"
      },
      "source": [
        "### Установка пакетов"
      ]
    },
    {
      "cell_type": "code",
      "execution_count": 1,
      "metadata": {
        "colab": {
          "base_uri": "https://localhost:8080/"
        },
        "id": "ezujwGoDr-on",
        "outputId": "4f92e43e-7b5f-47e9-f6fd-a4c52f2b93a2"
      },
      "outputs": [
        {
          "output_type": "stream",
          "name": "stdout",
          "text": [
            "Requirement already satisfied: pyspark in /usr/local/lib/python3.10/dist-packages (3.5.3)\n",
            "Requirement already satisfied: py4j==0.10.9.7 in /usr/local/lib/python3.10/dist-packages (from pyspark) (0.10.9.7)\n"
          ]
        }
      ],
      "source": [
        "!pip install pyspark"
      ]
    },
    {
      "cell_type": "markdown",
      "metadata": {
        "id": "k3CMXpjpptKn"
      },
      "source": [
        "### Импорт библиотек"
      ]
    },
    {
      "cell_type": "code",
      "execution_count": 2,
      "metadata": {
        "id": "0bxIuW3BnoW3"
      },
      "outputs": [],
      "source": [
        "import json\n",
        "import os\n",
        "import random\n",
        "from pyspark.ml.feature import Word2Vec\n",
        "from pyspark.sql import SparkSession\n",
        "from sklearn.datasets import make_classification"
      ]
    },
    {
      "cell_type": "markdown",
      "metadata": {
        "id": "7K0wrzBFOh6b"
      },
      "source": [
        "### Создание каталога data для хранения данных"
      ]
    },
    {
      "cell_type": "code",
      "execution_count": 3,
      "metadata": {
        "id": "k6mJK8UWOgEZ"
      },
      "outputs": [],
      "source": [
        "if not os.path.exists('data'):\n",
        "  os.makedirs('data')"
      ]
    },
    {
      "cell_type": "markdown",
      "metadata": {
        "id": "29kEYlPZp64Z"
      },
      "source": [
        "### Создание экземпляра SparkSession"
      ]
    },
    {
      "cell_type": "code",
      "execution_count": 4,
      "metadata": {
        "id": "IGshgYlPsS5r"
      },
      "outputs": [],
      "source": [
        "spark = SparkSession.builder.appName('Homework_3_lab4').getOrCreate()"
      ]
    },
    {
      "cell_type": "markdown",
      "source": [
        "## Word2vec"
      ],
      "metadata": {
        "id": "F_vuNOz0odR3"
      }
    },
    {
      "cell_type": "markdown",
      "metadata": {
        "id": "o-SD5MFn07MT"
      },
      "source": [
        "### Задание 1. Сгенерировать подходящие исходные данные для проведения обучения"
      ]
    },
    {
      "cell_type": "code",
      "source": [
        "words = [ 'lorem', 'ipsum', 'dolor', 'sit', 'amet', 'consectetur', 'adipisicing', 'elit' ]\n",
        "text = ' '.join(random.choices(words, k=1000))"
      ],
      "metadata": {
        "id": "EHgYn9DfS5jm"
      },
      "execution_count": 5,
      "outputs": []
    },
    {
      "cell_type": "code",
      "source": [
        "df = spark.createDataFrame([(text.split(' '),)], ['text'])\n",
        "df.head()"
      ],
      "metadata": {
        "colab": {
          "base_uri": "https://localhost:8080/"
        },
        "id": "UZ8hgwVfTESD",
        "outputId": "c57a9528-017c-4c81-f82e-5319850c72b1"
      },
      "execution_count": 6,
      "outputs": [
        {
          "output_type": "execute_result",
          "data": {
            "text/plain": [
              "Row(text=['dolor', 'sit', 'consectetur', 'dolor', 'dolor', 'amet', 'dolor', 'dolor', 'ipsum', 'elit', 'sit', 'adipisicing', 'adipisicing', 'elit', 'ipsum', 'dolor', 'ipsum', 'elit', 'amet', 'consectetur', 'amet', 'adipisicing', 'sit', 'amet', 'sit', 'adipisicing', 'ipsum', 'lorem', 'elit', 'consectetur', 'lorem', 'sit', 'lorem', 'consectetur', 'consectetur', 'amet', 'elit', 'sit', 'adipisicing', 'sit', 'amet', 'ipsum', 'adipisicing', 'ipsum', 'consectetur', 'elit', 'consectetur', 'amet', 'adipisicing', 'dolor', 'elit', 'dolor', 'sit', 'consectetur', 'dolor', 'ipsum', 'ipsum', 'adipisicing', 'sit', 'sit', 'sit', 'elit', 'sit', 'lorem', 'lorem', 'sit', 'sit', 'ipsum', 'dolor', 'dolor', 'dolor', 'lorem', 'dolor', 'ipsum', 'dolor', 'ipsum', 'sit', 'lorem', 'consectetur', 'ipsum', 'adipisicing', 'sit', 'elit', 'consectetur', 'ipsum', 'ipsum', 'dolor', 'elit', 'lorem', 'lorem', 'dolor', 'adipisicing', 'elit', 'elit', 'sit', 'elit', 'elit', 'lorem', 'consectetur', 'consectetur', 'lorem', 'dolor', 'ipsum', 'consectetur', 'sit', 'sit', 'amet', 'ipsum', 'dolor', 'elit', 'lorem', 'ipsum', 'sit', 'elit', 'elit', 'adipisicing', 'elit', 'lorem', 'sit', 'ipsum', 'sit', 'sit', 'elit', 'elit', 'sit', 'ipsum', 'amet', 'amet', 'dolor', 'elit', 'amet', 'lorem', 'ipsum', 'lorem', 'amet', 'elit', 'lorem', 'consectetur', 'amet', 'consectetur', 'adipisicing', 'consectetur', 'dolor', 'sit', 'ipsum', 'lorem', 'adipisicing', 'amet', 'adipisicing', 'sit', 'consectetur', 'amet', 'consectetur', 'amet', 'consectetur', 'adipisicing', 'adipisicing', 'elit', 'dolor', 'sit', 'sit', 'lorem', 'amet', 'elit', 'sit', 'elit', 'lorem', 'consectetur', 'lorem', 'amet', 'adipisicing', 'adipisicing', 'consectetur', 'dolor', 'lorem', 'dolor', 'adipisicing', 'lorem', 'ipsum', 'elit', 'sit', 'amet', 'dolor', 'consectetur', 'elit', 'dolor', 'adipisicing', 'adipisicing', 'amet', 'adipisicing', 'elit', 'elit', 'adipisicing', 'ipsum', 'consectetur', 'consectetur', 'lorem', 'consectetur', 'amet', 'amet', 'elit', 'lorem', 'adipisicing', 'sit', 'lorem', 'dolor', 'ipsum', 'adipisicing', 'elit', 'dolor', 'lorem', 'adipisicing', 'adipisicing', 'consectetur', 'consectetur', 'sit', 'adipisicing', 'amet', 'sit', 'sit', 'consectetur', 'lorem', 'sit', 'lorem', 'consectetur', 'lorem', 'elit', 'ipsum', 'elit', 'sit', 'consectetur', 'elit', 'lorem', 'amet', 'adipisicing', 'amet', 'amet', 'amet', 'ipsum', 'dolor', 'sit', 'adipisicing', 'sit', 'amet', 'dolor', 'amet', 'lorem', 'amet', 'elit', 'elit', 'consectetur', 'consectetur', 'ipsum', 'lorem', 'adipisicing', 'consectetur', 'consectetur', 'ipsum', 'amet', 'elit', 'lorem', 'amet', 'elit', 'elit', 'sit', 'amet', 'sit', 'amet', 'dolor', 'amet', 'amet', 'amet', 'lorem', 'adipisicing', 'consectetur', 'sit', 'adipisicing', 'elit', 'sit', 'lorem', 'amet', 'dolor', 'ipsum', 'ipsum', 'elit', 'ipsum', 'adipisicing', 'dolor', 'ipsum', 'elit', 'consectetur', 'consectetur', 'sit', 'dolor', 'ipsum', 'ipsum', 'sit', 'lorem', 'dolor', 'lorem', 'sit', 'elit', 'dolor', 'adipisicing', 'elit', 'dolor', 'sit', 'sit', 'dolor', 'ipsum', 'ipsum', 'adipisicing', 'dolor', 'elit', 'amet', 'ipsum', 'amet', 'elit', 'lorem', 'dolor', 'lorem', 'ipsum', 'amet', 'sit', 'amet', 'elit', 'adipisicing', 'lorem', 'amet', 'sit', 'consectetur', 'elit', 'lorem', 'lorem', 'adipisicing', 'amet', 'adipisicing', 'dolor', 'elit', 'dolor', 'elit', 'lorem', 'lorem', 'dolor', 'consectetur', 'elit', 'dolor', 'adipisicing', 'lorem', 'adipisicing', 'amet', 'sit', 'elit', 'adipisicing', 'lorem', 'ipsum', 'ipsum', 'dolor', 'sit', 'consectetur', 'ipsum', 'consectetur', 'lorem', 'elit', 'lorem', 'amet', 'dolor', 'ipsum', 'elit', 'ipsum', 'ipsum', 'consectetur', 'lorem', 'lorem', 'lorem', 'consectetur', 'sit', 'adipisicing', 'elit', 'consectetur', 'lorem', 'elit', 'sit', 'amet', 'ipsum', 'elit', 'elit', 'sit', 'sit', 'sit', 'consectetur', 'dolor', 'elit', 'amet', 'adipisicing', 'ipsum', 'consectetur', 'amet', 'dolor', 'dolor', 'amet', 'consectetur', 'amet', 'lorem', 'lorem', 'lorem', 'consectetur', 'ipsum', 'consectetur', 'sit', 'lorem', 'amet', 'ipsum', 'amet', 'adipisicing', 'consectetur', 'lorem', 'consectetur', 'dolor', 'elit', 'elit', 'ipsum', 'dolor', 'consectetur', 'lorem', 'lorem', 'amet', 'dolor', 'sit', 'adipisicing', 'dolor', 'dolor', 'elit', 'lorem', 'lorem', 'ipsum', 'consectetur', 'sit', 'adipisicing', 'adipisicing', 'ipsum', 'dolor', 'amet', 'adipisicing', 'sit', 'adipisicing', 'lorem', 'lorem', 'dolor', 'ipsum', 'ipsum', 'adipisicing', 'amet', 'ipsum', 'elit', 'amet', 'ipsum', 'sit', 'elit', 'sit', 'sit', 'sit', 'consectetur', 'ipsum', 'ipsum', 'elit', 'dolor', 'consectetur', 'amet', 'consectetur', 'adipisicing', 'lorem', 'sit', 'elit', 'elit', 'ipsum', 'sit', 'amet', 'sit', 'ipsum', 'dolor', 'ipsum', 'adipisicing', 'lorem', 'dolor', 'adipisicing', 'ipsum', 'consectetur', 'lorem', 'lorem', 'lorem', 'consectetur', 'adipisicing', 'ipsum', 'adipisicing', 'adipisicing', 'adipisicing', 'elit', 'consectetur', 'consectetur', 'amet', 'lorem', 'ipsum', 'consectetur', 'amet', 'dolor', 'elit', 'ipsum', 'sit', 'adipisicing', 'elit', 'consectetur', 'amet', 'lorem', 'ipsum', 'elit', 'ipsum', 'ipsum', 'dolor', 'ipsum', 'dolor', 'adipisicing', 'amet', 'dolor', 'lorem', 'elit', 'amet', 'dolor', 'elit', 'consectetur', 'consectetur', 'ipsum', 'lorem', 'amet', 'lorem', 'ipsum', 'dolor', 'lorem', 'ipsum', 'lorem', 'ipsum', 'sit', 'sit', 'adipisicing', 'amet', 'consectetur', 'amet', 'ipsum', 'consectetur', 'consectetur', 'amet', 'ipsum', 'ipsum', 'dolor', 'adipisicing', 'consectetur', 'adipisicing', 'consectetur', 'amet', 'elit', 'lorem', 'sit', 'dolor', 'lorem', 'ipsum', 'lorem', 'consectetur', 'ipsum', 'adipisicing', 'elit', 'consectetur', 'sit', 'ipsum', 'dolor', 'elit', 'dolor', 'elit', 'consectetur', 'dolor', 'dolor', 'ipsum', 'amet', 'sit', 'adipisicing', 'consectetur', 'lorem', 'ipsum', 'dolor', 'dolor', 'dolor', 'dolor', 'ipsum', 'adipisicing', 'ipsum', 'ipsum', 'dolor', 'dolor', 'elit', 'amet', 'ipsum', 'ipsum', 'sit', 'lorem', 'ipsum', 'elit', 'amet', 'adipisicing', 'lorem', 'elit', 'dolor', 'dolor', 'sit', 'dolor', 'sit', 'elit', 'dolor', 'lorem', 'ipsum', 'amet', 'sit', 'consectetur', 'amet', 'consectetur', 'adipisicing', 'adipisicing', 'elit', 'dolor', 'elit', 'lorem', 'consectetur', 'elit', 'amet', 'sit', 'lorem', 'lorem', 'ipsum', 'adipisicing', 'adipisicing', 'ipsum', 'dolor', 'ipsum', 'sit', 'adipisicing', 'adipisicing', 'adipisicing', 'elit', 'ipsum', 'dolor', 'dolor', 'ipsum', 'lorem', 'consectetur', 'sit', 'lorem', 'adipisicing', 'sit', 'ipsum', 'dolor', 'sit', 'ipsum', 'lorem', 'elit', 'dolor', 'amet', 'elit', 'consectetur', 'adipisicing', 'consectetur', 'consectetur', 'ipsum', 'lorem', 'amet', 'sit', 'elit', 'dolor', 'adipisicing', 'amet', 'elit', 'consectetur', 'consectetur', 'elit', 'adipisicing', 'lorem', 'amet', 'amet', 'ipsum', 'adipisicing', 'amet', 'dolor', 'elit', 'lorem', 'consectetur', 'amet', 'adipisicing', 'amet', 'adipisicing', 'amet', 'dolor', 'consectetur', 'sit', 'sit', 'sit', 'consectetur', 'adipisicing', 'consectetur', 'sit', 'amet', 'ipsum', 'amet', 'lorem', 'lorem', 'adipisicing', 'sit', 'amet', 'ipsum', 'ipsum', 'dolor', 'elit', 'dolor', 'consectetur', 'elit', 'consectetur', 'ipsum', 'lorem', 'sit', 'adipisicing', 'elit', 'adipisicing', 'amet', 'amet', 'sit', 'adipisicing', 'ipsum', 'lorem', 'sit', 'dolor', 'lorem', 'sit', 'sit', 'dolor', 'sit', 'dolor', 'consectetur', 'lorem', 'dolor', 'consectetur', 'ipsum', 'ipsum', 'lorem', 'adipisicing', 'sit', 'sit', 'elit', 'consectetur', 'dolor', 'consectetur', 'lorem', 'lorem', 'elit', 'elit', 'ipsum', 'adipisicing', 'amet', 'consectetur', 'consectetur', 'ipsum', 'amet', 'sit', 'consectetur', 'elit', 'lorem', 'sit', 'consectetur', 'lorem', 'adipisicing', 'adipisicing', 'adipisicing', 'adipisicing', 'sit', 'lorem', 'consectetur', 'dolor', 'adipisicing', 'amet', 'lorem', 'lorem', 'dolor', 'lorem', 'elit', 'consectetur', 'dolor', 'sit', 'consectetur', 'dolor', 'ipsum', 'ipsum', 'dolor', 'adipisicing', 'amet', 'elit', 'amet', 'amet', 'elit', 'lorem', 'dolor', 'consectetur', 'amet', 'sit', 'elit', 'ipsum', 'lorem', 'ipsum', 'consectetur', 'sit', 'sit', 'adipisicing', 'lorem', 'consectetur', 'ipsum', 'lorem', 'consectetur', 'consectetur', 'amet', 'elit', 'amet', 'ipsum', 'elit', 'sit', 'amet', 'dolor', 'dolor', 'lorem', 'dolor', 'sit', 'amet', 'adipisicing', 'lorem', 'lorem', 'ipsum', 'consectetur', 'lorem', 'consectetur', 'elit', 'amet', 'dolor', 'sit', 'lorem', 'amet', 'ipsum', 'dolor', 'adipisicing', 'lorem', 'dolor', 'amet', 'elit', 'ipsum', 'adipisicing', 'lorem', 'amet', 'lorem', 'dolor', 'lorem', 'elit', 'elit', 'ipsum', 'amet', 'elit', 'consectetur', 'amet', 'amet', 'dolor', 'amet', 'sit', 'ipsum', 'lorem', 'adipisicing', 'adipisicing', 'amet', 'dolor', 'dolor', 'elit', 'sit', 'lorem', 'amet', 'ipsum', 'elit', 'consectetur', 'adipisicing', 'ipsum', 'lorem', 'sit', 'lorem', 'amet', 'adipisicing', 'sit', 'consectetur', 'elit', 'elit', 'amet', 'elit', 'sit', 'consectetur', 'lorem', 'adipisicing', 'amet', 'sit', 'consectetur', 'lorem', 'amet', 'elit', 'sit', 'lorem', 'sit', 'sit', 'amet', 'dolor', 'lorem', 'ipsum', 'dolor', 'dolor', 'sit', 'lorem', 'adipisicing', 'lorem', 'consectetur', 'elit', 'elit', 'consectetur', 'sit', 'elit', 'adipisicing', 'sit', 'elit', 'amet', 'sit', 'elit', 'dolor', 'sit', 'lorem', 'dolor', 'dolor', 'sit', 'dolor', 'amet', 'ipsum', 'elit', 'dolor', 'lorem', 'adipisicing', 'sit', 'adipisicing', 'elit', 'ipsum', 'consectetur', 'amet', 'adipisicing', 'amet', 'dolor', 'lorem', 'sit', 'ipsum', 'lorem', 'consectetur', 'sit', 'lorem', 'sit', 'elit', 'adipisicing', 'elit', 'amet', 'sit', 'ipsum', 'consectetur', 'elit', 'amet', 'amet', 'ipsum', 'consectetur', 'lorem', 'dolor', 'dolor', 'amet', 'adipisicing', 'dolor', 'lorem', 'amet', 'consectetur', 'dolor', 'elit', 'sit', 'amet', 'elit', 'elit', 'consectetur', 'consectetur', 'lorem', 'adipisicing', 'amet', 'dolor', 'elit'])"
            ]
          },
          "metadata": {},
          "execution_count": 6
        }
      ]
    },
    {
      "cell_type": "markdown",
      "source": [
        "### Задание 2. Провести векторизацию слов с помощью pyspark.ml / pyspark.mllib"
      ],
      "metadata": {
        "id": "XeHaB-n4PpuJ"
      }
    },
    {
      "cell_type": "code",
      "source": [
        "word2vec = Word2Vec(inputCol='text', outputCol='model')\n",
        "model = word2vec.fit(df)"
      ],
      "metadata": {
        "id": "9uoh5At1Q9gK"
      },
      "execution_count": 7,
      "outputs": []
    },
    {
      "cell_type": "code",
      "source": [
        "vectors = model.getVectors()\n",
        "vectors.show()"
      ],
      "metadata": {
        "colab": {
          "base_uri": "https://localhost:8080/"
        },
        "id": "yUrP4REYRqFM",
        "outputId": "2747c247-341c-4437-f750-0b4deb28fbf1"
      },
      "execution_count": 8,
      "outputs": [
        {
          "output_type": "stream",
          "name": "stdout",
          "text": [
            "+-----------+--------------------+\n",
            "|       word|              vector|\n",
            "+-----------+--------------------+\n",
            "|       elit|[0.00141217571217...|\n",
            "|consectetur|[-0.0021551207173...|\n",
            "|        sit|[-0.0045488057658...|\n",
            "|      ipsum|[-0.0063018240034...|\n",
            "|      lorem|[-5.1302173233125...|\n",
            "|       amet|[-0.0062245419248...|\n",
            "|      dolor|[0.00106074858922...|\n",
            "|adipisicing|[-3.9885533624328...|\n",
            "+-----------+--------------------+\n",
            "\n"
          ]
        }
      ]
    },
    {
      "cell_type": "code",
      "source": [
        "predict = model.transform(df)\n",
        "predict.head()"
      ],
      "metadata": {
        "colab": {
          "base_uri": "https://localhost:8080/"
        },
        "id": "ONO8LcFMRr0k",
        "outputId": "974c496b-b73f-4e9a-cb4a-5c45dfa6a0f3"
      },
      "execution_count": 9,
      "outputs": [
        {
          "output_type": "execute_result",
          "data": {
            "text/plain": [
              "Row(text=['dolor', 'sit', 'consectetur', 'dolor', 'dolor', 'amet', 'dolor', 'dolor', 'ipsum', 'elit', 'sit', 'adipisicing', 'adipisicing', 'elit', 'ipsum', 'dolor', 'ipsum', 'elit', 'amet', 'consectetur', 'amet', 'adipisicing', 'sit', 'amet', 'sit', 'adipisicing', 'ipsum', 'lorem', 'elit', 'consectetur', 'lorem', 'sit', 'lorem', 'consectetur', 'consectetur', 'amet', 'elit', 'sit', 'adipisicing', 'sit', 'amet', 'ipsum', 'adipisicing', 'ipsum', 'consectetur', 'elit', 'consectetur', 'amet', 'adipisicing', 'dolor', 'elit', 'dolor', 'sit', 'consectetur', 'dolor', 'ipsum', 'ipsum', 'adipisicing', 'sit', 'sit', 'sit', 'elit', 'sit', 'lorem', 'lorem', 'sit', 'sit', 'ipsum', 'dolor', 'dolor', 'dolor', 'lorem', 'dolor', 'ipsum', 'dolor', 'ipsum', 'sit', 'lorem', 'consectetur', 'ipsum', 'adipisicing', 'sit', 'elit', 'consectetur', 'ipsum', 'ipsum', 'dolor', 'elit', 'lorem', 'lorem', 'dolor', 'adipisicing', 'elit', 'elit', 'sit', 'elit', 'elit', 'lorem', 'consectetur', 'consectetur', 'lorem', 'dolor', 'ipsum', 'consectetur', 'sit', 'sit', 'amet', 'ipsum', 'dolor', 'elit', 'lorem', 'ipsum', 'sit', 'elit', 'elit', 'adipisicing', 'elit', 'lorem', 'sit', 'ipsum', 'sit', 'sit', 'elit', 'elit', 'sit', 'ipsum', 'amet', 'amet', 'dolor', 'elit', 'amet', 'lorem', 'ipsum', 'lorem', 'amet', 'elit', 'lorem', 'consectetur', 'amet', 'consectetur', 'adipisicing', 'consectetur', 'dolor', 'sit', 'ipsum', 'lorem', 'adipisicing', 'amet', 'adipisicing', 'sit', 'consectetur', 'amet', 'consectetur', 'amet', 'consectetur', 'adipisicing', 'adipisicing', 'elit', 'dolor', 'sit', 'sit', 'lorem', 'amet', 'elit', 'sit', 'elit', 'lorem', 'consectetur', 'lorem', 'amet', 'adipisicing', 'adipisicing', 'consectetur', 'dolor', 'lorem', 'dolor', 'adipisicing', 'lorem', 'ipsum', 'elit', 'sit', 'amet', 'dolor', 'consectetur', 'elit', 'dolor', 'adipisicing', 'adipisicing', 'amet', 'adipisicing', 'elit', 'elit', 'adipisicing', 'ipsum', 'consectetur', 'consectetur', 'lorem', 'consectetur', 'amet', 'amet', 'elit', 'lorem', 'adipisicing', 'sit', 'lorem', 'dolor', 'ipsum', 'adipisicing', 'elit', 'dolor', 'lorem', 'adipisicing', 'adipisicing', 'consectetur', 'consectetur', 'sit', 'adipisicing', 'amet', 'sit', 'sit', 'consectetur', 'lorem', 'sit', 'lorem', 'consectetur', 'lorem', 'elit', 'ipsum', 'elit', 'sit', 'consectetur', 'elit', 'lorem', 'amet', 'adipisicing', 'amet', 'amet', 'amet', 'ipsum', 'dolor', 'sit', 'adipisicing', 'sit', 'amet', 'dolor', 'amet', 'lorem', 'amet', 'elit', 'elit', 'consectetur', 'consectetur', 'ipsum', 'lorem', 'adipisicing', 'consectetur', 'consectetur', 'ipsum', 'amet', 'elit', 'lorem', 'amet', 'elit', 'elit', 'sit', 'amet', 'sit', 'amet', 'dolor', 'amet', 'amet', 'amet', 'lorem', 'adipisicing', 'consectetur', 'sit', 'adipisicing', 'elit', 'sit', 'lorem', 'amet', 'dolor', 'ipsum', 'ipsum', 'elit', 'ipsum', 'adipisicing', 'dolor', 'ipsum', 'elit', 'consectetur', 'consectetur', 'sit', 'dolor', 'ipsum', 'ipsum', 'sit', 'lorem', 'dolor', 'lorem', 'sit', 'elit', 'dolor', 'adipisicing', 'elit', 'dolor', 'sit', 'sit', 'dolor', 'ipsum', 'ipsum', 'adipisicing', 'dolor', 'elit', 'amet', 'ipsum', 'amet', 'elit', 'lorem', 'dolor', 'lorem', 'ipsum', 'amet', 'sit', 'amet', 'elit', 'adipisicing', 'lorem', 'amet', 'sit', 'consectetur', 'elit', 'lorem', 'lorem', 'adipisicing', 'amet', 'adipisicing', 'dolor', 'elit', 'dolor', 'elit', 'lorem', 'lorem', 'dolor', 'consectetur', 'elit', 'dolor', 'adipisicing', 'lorem', 'adipisicing', 'amet', 'sit', 'elit', 'adipisicing', 'lorem', 'ipsum', 'ipsum', 'dolor', 'sit', 'consectetur', 'ipsum', 'consectetur', 'lorem', 'elit', 'lorem', 'amet', 'dolor', 'ipsum', 'elit', 'ipsum', 'ipsum', 'consectetur', 'lorem', 'lorem', 'lorem', 'consectetur', 'sit', 'adipisicing', 'elit', 'consectetur', 'lorem', 'elit', 'sit', 'amet', 'ipsum', 'elit', 'elit', 'sit', 'sit', 'sit', 'consectetur', 'dolor', 'elit', 'amet', 'adipisicing', 'ipsum', 'consectetur', 'amet', 'dolor', 'dolor', 'amet', 'consectetur', 'amet', 'lorem', 'lorem', 'lorem', 'consectetur', 'ipsum', 'consectetur', 'sit', 'lorem', 'amet', 'ipsum', 'amet', 'adipisicing', 'consectetur', 'lorem', 'consectetur', 'dolor', 'elit', 'elit', 'ipsum', 'dolor', 'consectetur', 'lorem', 'lorem', 'amet', 'dolor', 'sit', 'adipisicing', 'dolor', 'dolor', 'elit', 'lorem', 'lorem', 'ipsum', 'consectetur', 'sit', 'adipisicing', 'adipisicing', 'ipsum', 'dolor', 'amet', 'adipisicing', 'sit', 'adipisicing', 'lorem', 'lorem', 'dolor', 'ipsum', 'ipsum', 'adipisicing', 'amet', 'ipsum', 'elit', 'amet', 'ipsum', 'sit', 'elit', 'sit', 'sit', 'sit', 'consectetur', 'ipsum', 'ipsum', 'elit', 'dolor', 'consectetur', 'amet', 'consectetur', 'adipisicing', 'lorem', 'sit', 'elit', 'elit', 'ipsum', 'sit', 'amet', 'sit', 'ipsum', 'dolor', 'ipsum', 'adipisicing', 'lorem', 'dolor', 'adipisicing', 'ipsum', 'consectetur', 'lorem', 'lorem', 'lorem', 'consectetur', 'adipisicing', 'ipsum', 'adipisicing', 'adipisicing', 'adipisicing', 'elit', 'consectetur', 'consectetur', 'amet', 'lorem', 'ipsum', 'consectetur', 'amet', 'dolor', 'elit', 'ipsum', 'sit', 'adipisicing', 'elit', 'consectetur', 'amet', 'lorem', 'ipsum', 'elit', 'ipsum', 'ipsum', 'dolor', 'ipsum', 'dolor', 'adipisicing', 'amet', 'dolor', 'lorem', 'elit', 'amet', 'dolor', 'elit', 'consectetur', 'consectetur', 'ipsum', 'lorem', 'amet', 'lorem', 'ipsum', 'dolor', 'lorem', 'ipsum', 'lorem', 'ipsum', 'sit', 'sit', 'adipisicing', 'amet', 'consectetur', 'amet', 'ipsum', 'consectetur', 'consectetur', 'amet', 'ipsum', 'ipsum', 'dolor', 'adipisicing', 'consectetur', 'adipisicing', 'consectetur', 'amet', 'elit', 'lorem', 'sit', 'dolor', 'lorem', 'ipsum', 'lorem', 'consectetur', 'ipsum', 'adipisicing', 'elit', 'consectetur', 'sit', 'ipsum', 'dolor', 'elit', 'dolor', 'elit', 'consectetur', 'dolor', 'dolor', 'ipsum', 'amet', 'sit', 'adipisicing', 'consectetur', 'lorem', 'ipsum', 'dolor', 'dolor', 'dolor', 'dolor', 'ipsum', 'adipisicing', 'ipsum', 'ipsum', 'dolor', 'dolor', 'elit', 'amet', 'ipsum', 'ipsum', 'sit', 'lorem', 'ipsum', 'elit', 'amet', 'adipisicing', 'lorem', 'elit', 'dolor', 'dolor', 'sit', 'dolor', 'sit', 'elit', 'dolor', 'lorem', 'ipsum', 'amet', 'sit', 'consectetur', 'amet', 'consectetur', 'adipisicing', 'adipisicing', 'elit', 'dolor', 'elit', 'lorem', 'consectetur', 'elit', 'amet', 'sit', 'lorem', 'lorem', 'ipsum', 'adipisicing', 'adipisicing', 'ipsum', 'dolor', 'ipsum', 'sit', 'adipisicing', 'adipisicing', 'adipisicing', 'elit', 'ipsum', 'dolor', 'dolor', 'ipsum', 'lorem', 'consectetur', 'sit', 'lorem', 'adipisicing', 'sit', 'ipsum', 'dolor', 'sit', 'ipsum', 'lorem', 'elit', 'dolor', 'amet', 'elit', 'consectetur', 'adipisicing', 'consectetur', 'consectetur', 'ipsum', 'lorem', 'amet', 'sit', 'elit', 'dolor', 'adipisicing', 'amet', 'elit', 'consectetur', 'consectetur', 'elit', 'adipisicing', 'lorem', 'amet', 'amet', 'ipsum', 'adipisicing', 'amet', 'dolor', 'elit', 'lorem', 'consectetur', 'amet', 'adipisicing', 'amet', 'adipisicing', 'amet', 'dolor', 'consectetur', 'sit', 'sit', 'sit', 'consectetur', 'adipisicing', 'consectetur', 'sit', 'amet', 'ipsum', 'amet', 'lorem', 'lorem', 'adipisicing', 'sit', 'amet', 'ipsum', 'ipsum', 'dolor', 'elit', 'dolor', 'consectetur', 'elit', 'consectetur', 'ipsum', 'lorem', 'sit', 'adipisicing', 'elit', 'adipisicing', 'amet', 'amet', 'sit', 'adipisicing', 'ipsum', 'lorem', 'sit', 'dolor', 'lorem', 'sit', 'sit', 'dolor', 'sit', 'dolor', 'consectetur', 'lorem', 'dolor', 'consectetur', 'ipsum', 'ipsum', 'lorem', 'adipisicing', 'sit', 'sit', 'elit', 'consectetur', 'dolor', 'consectetur', 'lorem', 'lorem', 'elit', 'elit', 'ipsum', 'adipisicing', 'amet', 'consectetur', 'consectetur', 'ipsum', 'amet', 'sit', 'consectetur', 'elit', 'lorem', 'sit', 'consectetur', 'lorem', 'adipisicing', 'adipisicing', 'adipisicing', 'adipisicing', 'sit', 'lorem', 'consectetur', 'dolor', 'adipisicing', 'amet', 'lorem', 'lorem', 'dolor', 'lorem', 'elit', 'consectetur', 'dolor', 'sit', 'consectetur', 'dolor', 'ipsum', 'ipsum', 'dolor', 'adipisicing', 'amet', 'elit', 'amet', 'amet', 'elit', 'lorem', 'dolor', 'consectetur', 'amet', 'sit', 'elit', 'ipsum', 'lorem', 'ipsum', 'consectetur', 'sit', 'sit', 'adipisicing', 'lorem', 'consectetur', 'ipsum', 'lorem', 'consectetur', 'consectetur', 'amet', 'elit', 'amet', 'ipsum', 'elit', 'sit', 'amet', 'dolor', 'dolor', 'lorem', 'dolor', 'sit', 'amet', 'adipisicing', 'lorem', 'lorem', 'ipsum', 'consectetur', 'lorem', 'consectetur', 'elit', 'amet', 'dolor', 'sit', 'lorem', 'amet', 'ipsum', 'dolor', 'adipisicing', 'lorem', 'dolor', 'amet', 'elit', 'ipsum', 'adipisicing', 'lorem', 'amet', 'lorem', 'dolor', 'lorem', 'elit', 'elit', 'ipsum', 'amet', 'elit', 'consectetur', 'amet', 'amet', 'dolor', 'amet', 'sit', 'ipsum', 'lorem', 'adipisicing', 'adipisicing', 'amet', 'dolor', 'dolor', 'elit', 'sit', 'lorem', 'amet', 'ipsum', 'elit', 'consectetur', 'adipisicing', 'ipsum', 'lorem', 'sit', 'lorem', 'amet', 'adipisicing', 'sit', 'consectetur', 'elit', 'elit', 'amet', 'elit', 'sit', 'consectetur', 'lorem', 'adipisicing', 'amet', 'sit', 'consectetur', 'lorem', 'amet', 'elit', 'sit', 'lorem', 'sit', 'sit', 'amet', 'dolor', 'lorem', 'ipsum', 'dolor', 'dolor', 'sit', 'lorem', 'adipisicing', 'lorem', 'consectetur', 'elit', 'elit', 'consectetur', 'sit', 'elit', 'adipisicing', 'sit', 'elit', 'amet', 'sit', 'elit', 'dolor', 'sit', 'lorem', 'dolor', 'dolor', 'sit', 'dolor', 'amet', 'ipsum', 'elit', 'dolor', 'lorem', 'adipisicing', 'sit', 'adipisicing', 'elit', 'ipsum', 'consectetur', 'amet', 'adipisicing', 'amet', 'dolor', 'lorem', 'sit', 'ipsum', 'lorem', 'consectetur', 'sit', 'lorem', 'sit', 'elit', 'adipisicing', 'elit', 'amet', 'sit', 'ipsum', 'consectetur', 'elit', 'amet', 'amet', 'ipsum', 'consectetur', 'lorem', 'dolor', 'dolor', 'amet', 'adipisicing', 'dolor', 'lorem', 'amet', 'consectetur', 'dolor', 'elit', 'sit', 'amet', 'elit', 'elit', 'consectetur', 'consectetur', 'lorem', 'adipisicing', 'amet', 'dolor', 'elit'], model=DenseVector([-0.0021, -0.0007, 0.0033, -0.0001, -0.0019, -0.0007, 0.0017, 0.002, -0.0003, 0.0024, 0.002, -0.0001, -0.0031, 0.0029, 0.0018, 0.0017, 0.0007, -0.0016, 0.001, -0.0002, -0.0008, 0.0005, -0.0023, -0.0023, 0.0016, -0.0008, 0.0014, 0.0014, -0.0007, -0.0018, -0.0008, 0.0001, -0.0009, 0.0009, -0.001, 0.0004, -0.0017, -0.0013, -0.0, 0.0003, 0.0016, 0.0005, -0.0018, -0.0004, -0.0014, -0.0022, -0.0016, 0.0015, -0.0002, -0.0002, 0.0, 0.0027, 0.0004, -0.0007, 0.0008, 0.0007, 0.0006, 0.0, 0.0016, 0.0014, 0.0022, 0.0026, 0.0007, -0.0001, 0.0012, 0.0001, -0.0023, -0.0001, -0.0005, 0.0013, -0.0015, 0.0004, -0.002, -0.0015, 0.0002, -0.0009, -0.0031, 0.0006, 0.002, 0.0018, -0.0024, -0.0003, 0.0019, 0.0015, 0.0001, 0.0027, 0.0009, -0.0019, -0.002, -0.0021, 0.0019, -0.0, -0.0006, 0.0008, 0.0022, -0.0011, 0.0021, -0.0015, 0.0006, 0.0025]))"
            ]
          },
          "metadata": {},
          "execution_count": 9
        }
      ]
    },
    {
      "cell_type": "code",
      "source": [
        "model.save('data/model')"
      ],
      "metadata": {
        "id": "vaVvn113Rs7N"
      },
      "execution_count": 10,
      "outputs": []
    },
    {
      "cell_type": "markdown",
      "source": [
        "### Задание 3. Сохранить полученные векторы"
      ],
      "metadata": {
        "id": "Sx1M548uQXyS"
      }
    },
    {
      "cell_type": "code",
      "source": [
        "vectors.toPandas().to_json('data/word2vec_r_4.json')"
      ],
      "metadata": {
        "id": "WRmXiUxZR_9t"
      },
      "execution_count": 11,
      "outputs": []
    }
  ]
}