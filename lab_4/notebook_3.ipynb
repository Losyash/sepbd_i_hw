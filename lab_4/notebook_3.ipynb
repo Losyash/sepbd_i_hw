{
  "nbformat": 4,
  "nbformat_minor": 0,
  "metadata": {
    "colab": {
      "provenance": []
    },
    "kernelspec": {
      "name": "python3",
      "display_name": "Python 3"
    },
    "language_info": {
      "name": "python"
    }
  },
  "cells": [
    {
      "cell_type": "markdown",
      "metadata": {
        "id": "xydrmfnDr7KX"
      },
      "source": [
        "### Установка пакетов"
      ]
    },
    {
      "cell_type": "code",
      "execution_count": 1,
      "metadata": {
        "colab": {
          "base_uri": "https://localhost:8080/"
        },
        "id": "ezujwGoDr-on",
        "outputId": "9d857d25-8151-4d48-b5ee-b89e78383874"
      },
      "outputs": [
        {
          "output_type": "stream",
          "name": "stdout",
          "text": [
            "Requirement already satisfied: pyspark in /usr/local/lib/python3.10/dist-packages (3.5.3)\n",
            "Requirement already satisfied: py4j==0.10.9.7 in /usr/local/lib/python3.10/dist-packages (from pyspark) (0.10.9.7)\n"
          ]
        }
      ],
      "source": [
        "!pip install pyspark"
      ]
    },
    {
      "cell_type": "markdown",
      "metadata": {
        "id": "k3CMXpjpptKn"
      },
      "source": [
        "### Импорт библиотек"
      ]
    },
    {
      "cell_type": "code",
      "execution_count": 2,
      "metadata": {
        "id": "0bxIuW3BnoW3"
      },
      "outputs": [],
      "source": [
        "import json\n",
        "import os\n",
        "from pyspark.ml.regression import LinearRegression\n",
        "from pyspark.sql import SparkSession\n",
        "from sklearn.datasets import make_classification"
      ]
    },
    {
      "cell_type": "markdown",
      "metadata": {
        "id": "7K0wrzBFOh6b"
      },
      "source": [
        "### Создание каталога data для хранения данных"
      ]
    },
    {
      "cell_type": "code",
      "execution_count": 3,
      "metadata": {
        "id": "k6mJK8UWOgEZ"
      },
      "outputs": [],
      "source": [
        "if not os.path.exists('data'):\n",
        "  os.makedirs('data')"
      ]
    },
    {
      "cell_type": "markdown",
      "metadata": {
        "id": "29kEYlPZp64Z"
      },
      "source": [
        "### Создание экземпляра SparkSession"
      ]
    },
    {
      "cell_type": "code",
      "execution_count": 4,
      "metadata": {
        "id": "IGshgYlPsS5r"
      },
      "outputs": [],
      "source": [
        "spark = SparkSession.builder.appName('Homework_3_lab3').getOrCreate()"
      ]
    },
    {
      "cell_type": "markdown",
      "source": [
        "## Регрессия (LinearRegression)"
      ],
      "metadata": {
        "id": "F_vuNOz0odR3"
      }
    },
    {
      "cell_type": "markdown",
      "metadata": {
        "id": "o-SD5MFn07MT"
      },
      "source": [
        "### Задание 1. Сгенерировать подходящие исходные данные для проведения обучения"
      ]
    },
    {
      "cell_type": "markdown",
      "source": [
        "#### 1.1. Определение функции генерации данных"
      ],
      "metadata": {
        "id": "RA7lRjAGq0N2"
      }
    },
    {
      "cell_type": "code",
      "source": [
        "def to_file(path, X, y):\n",
        "  lines = []\n",
        "\n",
        "  for i in range(len(y)):\n",
        "    features = []\n",
        "\n",
        "    for j in range(len(X[0])):\n",
        "      features.append(f\"{j+1}:{X[i][j]}\")\n",
        "\n",
        "    lines.append(f\"{y[i]} {' '.join(features)}\")\n",
        "\n",
        "  with open(path, \"w\") as file:\n",
        "    file.write('\\n'.join(lines))"
      ],
      "metadata": {
        "id": "I42QdeTmqytZ"
      },
      "execution_count": 5,
      "outputs": []
    },
    {
      "cell_type": "markdown",
      "source": [
        "#### 1.2. Генерация данных"
      ],
      "metadata": {
        "id": "eQbWA_taq9NH"
      }
    },
    {
      "cell_type": "code",
      "source": [
        "X, y = make_classification(\n",
        "  n_samples=1000,\n",
        "  n_features=15,\n",
        "  n_informative=12,\n",
        "  n_redundant=3,\n",
        "  n_clusters_per_class=2,\n",
        "  n_classes=5\n",
        ")\n",
        "\n",
        "to_file('data/regrassion_data', X, y)"
      ],
      "metadata": {
        "id": "pWiSAG0PoqOI"
      },
      "execution_count": 6,
      "outputs": []
    },
    {
      "cell_type": "markdown",
      "source": [
        "#### 1.3. Чтение данных из файла"
      ],
      "metadata": {
        "id": "plz46mW2rDwJ"
      }
    },
    {
      "cell_type": "code",
      "source": [
        "df = spark.read.format('libsvm').load('data/regrassion_data')\n",
        "df.head()"
      ],
      "metadata": {
        "colab": {
          "base_uri": "https://localhost:8080/"
        },
        "id": "VNvJFs0HrOoe",
        "outputId": "d7cf1c6f-3dc4-4ed2-fbb7-3d3963187bc3"
      },
      "execution_count": 7,
      "outputs": [
        {
          "output_type": "execute_result",
          "data": {
            "text/plain": [
              "Row(label=0.0, features=SparseVector(15, {0: -5.1786, 1: -0.6475, 2: 1.7988, 3: 4.3444, 4: -3.0755, 5: 3.096, 6: -1.0053, 7: 1.4436, 8: -3.3272, 9: 3.5888, 10: 2.291, 11: -0.8982, 12: -4.2056, 13: 1.9379, 14: -7.7826}))"
            ]
          },
          "metadata": {},
          "execution_count": 7
        }
      ]
    },
    {
      "cell_type": "markdown",
      "source": [
        "### Заданние 2. Провести кластеризацию с помощью pyspark.ml / pyspark.mllib"
      ],
      "metadata": {
        "id": "ae7KrJxoIP5d"
      }
    },
    {
      "cell_type": "code",
      "source": [
        "df_train, df_test = df.randomSplit([0.8, 0.2])\n",
        "\n",
        "linear = LinearRegression()\n",
        "model = linear.fit(df_train)"
      ],
      "metadata": {
        "id": "d-2Rz-icI60y"
      },
      "execution_count": 8,
      "outputs": []
    },
    {
      "cell_type": "code",
      "source": [
        "predictions = model.transform(df_test)\n",
        "predictions.head()"
      ],
      "metadata": {
        "colab": {
          "base_uri": "https://localhost:8080/"
        },
        "id": "8T9K1cZ4I8p9",
        "outputId": "854c5a45-5667-4f45-9d35-25da7163a081"
      },
      "execution_count": 9,
      "outputs": [
        {
          "output_type": "execute_result",
          "data": {
            "text/plain": [
              "Row(label=0.0, features=SparseVector(15, {0: -9.1907, 1: 2.5275, 2: -1.5476, 3: 6.2502, 4: 0.3802, 5: 0.8253, 6: -1.4836, 7: -3.8603, 8: -0.5895, 9: 0.8325, 10: 0.7595, 11: 1.3631, 12: 1.977, 13: 1.9326, 14: -1.6815}), prediction=2.2970614446496254)"
            ]
          },
          "metadata": {},
          "execution_count": 9
        }
      ]
    },
    {
      "cell_type": "code",
      "source": [
        "model.coefficients"
      ],
      "metadata": {
        "colab": {
          "base_uri": "https://localhost:8080/"
        },
        "id": "BdUwWwplI-Lu",
        "outputId": "3e9d1fac-0d1c-4562-e12e-3d63c330f549"
      },
      "execution_count": 10,
      "outputs": [
        {
          "output_type": "execute_result",
          "data": {
            "text/plain": [
              "DenseVector([-0.0013, 0.0486, -0.0477, -0.0076, -0.032, -0.0418, -0.1531, -0.0974, 0.1118, -0.0263, 0.0013, -0.0902, -0.0639, -0.0366, 0.0146])"
            ]
          },
          "metadata": {},
          "execution_count": 10
        }
      ]
    },
    {
      "cell_type": "code",
      "source": [
        "model.intercept"
      ],
      "metadata": {
        "colab": {
          "base_uri": "https://localhost:8080/"
        },
        "id": "SWBo82W8I_T9",
        "outputId": "5ef1d4ea-1355-4870-f540-3e139f7f1440"
      },
      "execution_count": 11,
      "outputs": [
        {
          "output_type": "execute_result",
          "data": {
            "text/plain": [
              "2.0107825841826372"
            ]
          },
          "metadata": {},
          "execution_count": 11
        }
      ]
    },
    {
      "cell_type": "markdown",
      "source": [
        "### Заданние 3. Провести расчет метрик"
      ],
      "metadata": {
        "id": "ofgII-4GIlA_"
      }
    },
    {
      "cell_type": "code",
      "source": [
        "model.summary.r2"
      ],
      "metadata": {
        "colab": {
          "base_uri": "https://localhost:8080/"
        },
        "id": "BllK0JoZJoKN",
        "outputId": "8855d799-c6ce-4216-f34b-178baa003f7a"
      },
      "execution_count": 12,
      "outputs": [
        {
          "output_type": "execute_result",
          "data": {
            "text/plain": [
              "0.1827139155140628"
            ]
          },
          "metadata": {},
          "execution_count": 12
        }
      ]
    },
    {
      "cell_type": "code",
      "source": [
        "model.summary.rootMeanSquaredError"
      ],
      "metadata": {
        "colab": {
          "base_uri": "https://localhost:8080/"
        },
        "id": "ZAmin9wWJo76",
        "outputId": "0539e551-78a5-4efc-b020-f5f4329f464e"
      },
      "execution_count": 13,
      "outputs": [
        {
          "output_type": "execute_result",
          "data": {
            "text/plain": [
              "1.2728786683653008"
            ]
          },
          "metadata": {},
          "execution_count": 13
        }
      ]
    },
    {
      "cell_type": "markdown",
      "source": [
        "### Задание 4. Сохранить полученные значения метрик в файл."
      ],
      "metadata": {
        "id": "ZRCgXjNUInpM"
      }
    },
    {
      "cell_type": "code",
      "source": [
        "metrics_list = [ model.summary.r2, model.summary.rootMeanSquaredError ]\n",
        "\n",
        "with open('data/regrassion_data_r_3', 'w') as file:\n",
        "  file.write(str(metrics_list))"
      ],
      "metadata": {
        "id": "q55LIFz9KPUM"
      },
      "execution_count": 14,
      "outputs": []
    }
  ]
}