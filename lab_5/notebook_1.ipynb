{
  "nbformat": 4,
  "nbformat_minor": 0,
  "metadata": {
    "colab": {
      "provenance": []
    },
    "kernelspec": {
      "name": "python3",
      "display_name": "Python 3"
    },
    "language_info": {
      "name": "python"
    }
  },
  "cells": [
    {
      "cell_type": "markdown",
      "metadata": {
        "id": "xydrmfnDr7KX"
      },
      "source": [
        "### Установка пакетов"
      ]
    },
    {
      "cell_type": "code",
      "execution_count": 1,
      "metadata": {
        "colab": {
          "base_uri": "https://localhost:8080/"
        },
        "id": "ezujwGoDr-on",
        "outputId": "edd55d3f-7686-440a-fd32-ce0f75b6c5db"
      },
      "outputs": [
        {
          "output_type": "stream",
          "name": "stdout",
          "text": [
            "Requirement already satisfied: pyspark in /usr/local/lib/python3.10/dist-packages (3.5.3)\n",
            "Requirement already satisfied: py4j==0.10.9.7 in /usr/local/lib/python3.10/dist-packages (from pyspark) (0.10.9.7)\n"
          ]
        }
      ],
      "source": [
        "!pip install pyspark"
      ]
    },
    {
      "cell_type": "markdown",
      "metadata": {
        "id": "k3CMXpjpptKn"
      },
      "source": [
        "### Импорт библиотек"
      ]
    },
    {
      "cell_type": "code",
      "execution_count": 2,
      "metadata": {
        "id": "0bxIuW3BnoW3"
      },
      "outputs": [],
      "source": [
        "import json\n",
        "import os\n",
        "from pyspark.sql import SparkSession\n",
        "from pyspark.sql.functions import expr\n",
        "import urllib.request"
      ]
    },
    {
      "cell_type": "markdown",
      "metadata": {
        "id": "7K0wrzBFOh6b"
      },
      "source": [
        "### Создание каталога data для хранения данных"
      ]
    },
    {
      "cell_type": "code",
      "execution_count": 3,
      "metadata": {
        "id": "k6mJK8UWOgEZ",
        "colab": {
          "base_uri": "https://localhost:8080/"
        },
        "outputId": "608679d2-8716-4f77-e097-c572e18a65ee"
      },
      "outputs": [
        {
          "output_type": "execute_result",
          "data": {
            "text/plain": [
              "('data/input/Invoice-set3.json', <http.client.HTTPMessage at 0x7c94073a7580>)"
            ]
          },
          "metadata": {},
          "execution_count": 3
        }
      ],
      "source": [
        "if not os.path.exists('data/input'):\n",
        "  os.makedirs('data/input')\n",
        "\n",
        "if not os.path.exists('data/output'):\n",
        "  os.makedirs('data/output')\n",
        "\n",
        "urllib.request.urlretrieve('https://raw.githubusercontent.com/Losyash/sepbd_i_hw/refs/heads/master/lab_5/data/Invoice-set1.json', 'data/input/Invoice-set1.json')\n",
        "urllib.request.urlretrieve('https://raw.githubusercontent.com/Losyash/sepbd_i_hw/refs/heads/master/lab_5/data/Invoice-set2.json', 'data/input/Invoice-set2.json')\n",
        "urllib.request.urlretrieve('https://raw.githubusercontent.com/Losyash/sepbd_i_hw/refs/heads/master/lab_5/data/Invoice-set3.json', 'data/input/Invoice-set3.json')"
      ]
    },
    {
      "cell_type": "markdown",
      "metadata": {
        "id": "29kEYlPZp64Z"
      },
      "source": [
        "### Создание экземпляра SparkSession"
      ]
    },
    {
      "cell_type": "code",
      "execution_count": 4,
      "metadata": {
        "id": "IGshgYlPsS5r"
      },
      "outputs": [],
      "source": [
        "spark = SparkSession\\\n",
        "  .builder \\\n",
        "  .appName('Homework_5_lab3') \\\n",
        "  .config('spark.sql.streaming.schemaInference', 'true') \\\n",
        "  .getOrCreate()"
      ]
    },
    {
      "cell_type": "markdown",
      "source": [
        "## Structured Streaming из набора файлов"
      ],
      "metadata": {
        "id": "uvazgVmB_6EG"
      }
    },
    {
      "cell_type": "markdown",
      "source": [
        "### Задание 1. Подготовить данные"
      ],
      "metadata": {
        "id": "rwjfAAEF4ipo"
      }
    },
    {
      "cell_type": "code",
      "source": [
        "df = spark.readStream \\\n",
        "  .format('json') \\\n",
        "  .option('path', 'data/input') \\\n",
        "  .option('maxFilesPerTrigger', 1) \\\n",
        "  .load()"
      ],
      "metadata": {
        "id": "UHaPPVT50gnG"
      },
      "execution_count": 5,
      "outputs": []
    },
    {
      "cell_type": "code",
      "source": [
        "df_flat_1 = df.selectExpr(\n",
        "  'InvoiceNumber',\n",
        "  'CreatedTime',\n",
        "  'StoreID',\n",
        "  'PosID',\n",
        "  'CashierID',\n",
        "  'CustomerType',\n",
        "  'CustomerCardNo',\n",
        "  'TotalAmount',\n",
        "  'NumberOfItems',\n",
        "  'PaymentMethod',\n",
        "  'TaxableAmount',\n",
        "  'explode(InvoiceLineItems) as Item'\n",
        ")"
      ],
      "metadata": {
        "id": "6dnRzmA235LF"
      },
      "execution_count": 6,
      "outputs": []
    },
    {
      "cell_type": "markdown",
      "source": [
        "### Задание 2. Написать преобразование исходного датафрейма, для получения плоской (flat) структуры."
      ],
      "metadata": {
        "id": "enl4ZEM77djZ"
      }
    },
    {
      "cell_type": "code",
      "source": [
        "df_flat_2 = df_flat_1 \\\n",
        "  .withColumn('ItemCode', expr('Item.ItemCode')) \\\n",
        "  .withColumn('temDescription', expr('Item.ItemDescription')) \\\n",
        "  .withColumn('ItemPrice', expr('Item.ItemPrice')) \\\n",
        "  .withColumn('ItemQty', expr('Item.ItemQty')) \\\n",
        "  .withColumn('TotalValue', expr('Item.TotalValue')) \\\n",
        "  .drop('Item')"
      ],
      "metadata": {
        "id": "ozpqIzPA5vFr"
      },
      "execution_count": 7,
      "outputs": []
    },
    {
      "cell_type": "markdown",
      "source": [
        "### Задание 3-4. Открыть на основе исходных json файлов потоковый датафрейм и сохранить получаемые каждые X секунд исходные файлы в json."
      ],
      "metadata": {
        "id": "xwmQsmLa4xwe"
      }
    },
    {
      "cell_type": "code",
      "source": [
        "stream = df_flat_2.writeStream \\\n",
        "  .format('json') \\\n",
        "  .option('path', 'data/output') \\\n",
        "  .option('checkpointLocation', 'data/check-dir') \\\n",
        "  .trigger(processingTime='30 seconds') \\\n",
        "  .start()"
      ],
      "metadata": {
        "id": "hITtwUv06jmd"
      },
      "execution_count": 8,
      "outputs": []
    },
    {
      "cell_type": "code",
      "source": [
        "#spark.stop()"
      ],
      "metadata": {
        "id": "dcVJzN_z7UCS"
      },
      "execution_count": 9,
      "outputs": []
    }
  ]
}